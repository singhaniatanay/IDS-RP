{
 "cells": [
  {
   "cell_type": "code",
   "execution_count": 1,
   "metadata": {},
   "outputs": [],
   "source": [
    "import os"
   ]
  },
  {
   "cell_type": "code",
   "execution_count": 5,
   "metadata": {},
   "outputs": [
    {
     "data": {
      "text/plain": [
       "['Wednesday-28-02-2018_TrafficForML_CICFlowMeter.csv',\n",
       " '.DS_Store',\n",
       " 'Thursday-01-03-2018_TrafficForML_CICFlowMeter.csv',\n",
       " 'combined_csv.csv',\n",
       " 'Friday-02-03-2018_TrafficForML_CICFlowMeter.csv',\n",
       " 'Thursday-22-02-2018_TrafficForML_CICFlowMeter.csv',\n",
       " 'Thursday-15-02-2018_TrafficForML_CICFlowMeter.csv',\n",
       " 'Thuesday-20-02-2018_TrafficForML_CICFlowMeter.csv',\n",
       " 'Wednesday-21-02-2018_TrafficForML_CICFlowMeter.csv',\n",
       " 'Wednesday-14-02-2018_TrafficForML_CICFlowMeter.csv',\n",
       " 'Friday-16-02-2018_TrafficForML_CICFlowMeter.csv',\n",
       " 'Friday-23-02-2018_TrafficForML_CICFlowMeter.csv']"
      ]
     },
     "execution_count": 5,
     "metadata": {},
     "output_type": "execute_result"
    }
   ],
   "source": [
    "os.getcwd()\n",
    "os.listdir()"
   ]
  },
  {
   "cell_type": "code",
   "execution_count": 3,
   "metadata": {},
   "outputs": [],
   "source": [
    "os.chdir('..')\n",
    "os.chdir('./dataset')"
   ]
  },
  {
   "cell_type": "code",
   "execution_count": 4,
   "metadata": {},
   "outputs": [],
   "source": [
    "import pandas as pd"
   ]
  },
  {
   "cell_type": "markdown",
   "metadata": {},
   "source": [
    "## Combining 10 CSV into One"
   ]
  },
  {
   "cell_type": "code",
   "execution_count": 18,
   "metadata": {},
   "outputs": [],
   "source": [
    "import glob"
   ]
  },
  {
   "cell_type": "code",
   "execution_count": 26,
   "metadata": {},
   "outputs": [
    {
     "name": "stdout",
     "output_type": "stream",
     "text": [
      "11\n",
      "Wednesday-28-02-2018_TrafficForML_CICFlowMeter.csv\n",
      "(613104, 80)\n",
      "-------------\n",
      "Thursday-01-03-2018_TrafficForML_CICFlowMeter.csv\n",
      "(331125, 80)\n",
      "-------------\n"
     ]
    },
    {
     "name": "stderr",
     "output_type": "stream",
     "text": [
      "/Library/Frameworks/Python.framework/Versions/3.7/lib/python3.7/site-packages/IPython/core/interactiveshell.py:3057: DtypeWarning: Columns (16,17) have mixed types. Specify dtype option on import or set low_memory=False.\n",
      "  interactivity=interactivity, compiler=compiler, result=result)\n"
     ]
    },
    {
     "name": "stdout",
     "output_type": "stream",
     "text": [
      "Friday-02-03-2018_TrafficForML_CICFlowMeter.csv\n",
      "(1048575, 80)\n",
      "-------------\n"
     ]
    },
    {
     "name": "stderr",
     "output_type": "stream",
     "text": [
      "/Library/Frameworks/Python.framework/Versions/3.7/lib/python3.7/site-packages/IPython/core/interactiveshell.py:3057: DtypeWarning: Columns (16) have mixed types. Specify dtype option on import or set low_memory=False.\n",
      "  interactivity=interactivity, compiler=compiler, result=result)\n"
     ]
    },
    {
     "name": "stdout",
     "output_type": "stream",
     "text": [
      "Thursday-22-02-2018_TrafficForML_CICFlowMeter.csv\n",
      "(1048575, 80)\n",
      "-------------\n",
      "Thursday-15-02-2018_TrafficForML_CICFlowMeter.csv\n",
      "(1048575, 80)\n",
      "-------------\n"
     ]
    },
    {
     "name": "stderr",
     "output_type": "stream",
     "text": [
      "/Library/Frameworks/Python.framework/Versions/3.7/lib/python3.7/site-packages/IPython/core/interactiveshell.py:3057: DtypeWarning: Columns (20,21) have mixed types. Specify dtype option on import or set low_memory=False.\n",
      "  interactivity=interactivity, compiler=compiler, result=result)\n"
     ]
    },
    {
     "name": "stdout",
     "output_type": "stream",
     "text": [
      "Thuesday-20-02-2018_TrafficForML_CICFlowMeter.csv\n",
      "(7948748, 84)\n",
      "-------------\n",
      "Wednesday-21-02-2018_TrafficForML_CICFlowMeter.csv\n",
      "(1048575, 80)\n",
      "-------------\n",
      "Wednesday-14-02-2018_TrafficForML_CICFlowMeter.csv\n",
      "(1048575, 80)\n",
      "-------------\n"
     ]
    },
    {
     "name": "stderr",
     "output_type": "stream",
     "text": [
      "/Library/Frameworks/Python.framework/Versions/3.7/lib/python3.7/site-packages/IPython/core/interactiveshell.py:3057: DtypeWarning: Columns (0,1,3,4,5,6,7,8,9,10,11,12,13,14,15,16,17,18,19,20,21,22,23,24,25,26,27,28,29,30,31,32,33,34,35,36,37,38,39,40,41,42,43,44,45,46,47,48,49,50,51,52,53,54,55,56,57,58,59,60,61,62,63,64,65,66,67,68,69,70,71,72,73,74,75,76,77,78) have mixed types. Specify dtype option on import or set low_memory=False.\n",
      "  interactivity=interactivity, compiler=compiler, result=result)\n"
     ]
    },
    {
     "name": "stdout",
     "output_type": "stream",
     "text": [
      "Friday-16-02-2018_TrafficForML_CICFlowMeter.csv\n",
      "(1048575, 80)\n",
      "-------------\n",
      "Friday-23-02-2018_TrafficForML_CICFlowMeter.csv\n",
      "(1048575, 80)\n",
      "-------------\n"
     ]
    }
   ],
   "source": [
    "extension = 'csv'\n",
    "all_filenames = [i for i in glob.glob('*.{}'.format(extension))]\n",
    "print(len(all_filenames))\n",
    "for i in all_filenames:\n",
    "    if 'combined' in i:\n",
    "        continue\n",
    "    df = pd.read_csv('./'+str(i))\n",
    "    print(str(i))\n",
    "    print(df.shape)\n",
    "    print('-------------')"
   ]
  },
  {
   "cell_type": "code",
   "execution_count": 27,
   "metadata": {},
   "outputs": [
    {
     "name": "stderr",
     "output_type": "stream",
     "text": [
      "/Library/Frameworks/Python.framework/Versions/3.7/lib/python3.7/site-packages/IPython/core/interactiveshell.py:3057: DtypeWarning: Columns (20,21) have mixed types. Specify dtype option on import or set low_memory=False.\n",
      "  interactivity=interactivity, compiler=compiler, result=result)\n",
      "/Library/Frameworks/Python.framework/Versions/3.7/lib/python3.7/site-packages/IPython/core/interactiveshell.py:3057: DtypeWarning: Columns (0,1,3,4,5,6,7,8,9,10,11,12,13,14,15,16,18,19,20,21,22,23,24,25,26,27,28,29,30,31,32,33,34,35,36,37,38,39,40,41,42,43,44,45,46,47,48,49,50,51,52,53,54,55,56,57,58,59,60,61,62,63,64,65,66,67,68,69,70,71,72,73,74,75,76,77,78) have mixed types. Specify dtype option on import or set low_memory=False.\n",
      "  interactivity=interactivity, compiler=compiler, result=result)\n"
     ]
    }
   ],
   "source": [
    "fourGBwali = pd.read_csv('./Thuesday-20-02-2018_TrafficForML_CICFlowMeter.csv')\n",
    "otheCSV = pd.read_csv('./Thursday-01-03-2018_TrafficForML_CICFlowMeter.csv')\n",
    "cols_4GB = fourGBwali.columns\n",
    "cols_other = otheCSV.columns"
   ]
  },
  {
   "cell_type": "code",
   "execution_count": 31,
   "metadata": {},
   "outputs": [
    {
     "name": "stdout",
     "output_type": "stream",
     "text": [
      "Flow ID\n",
      "Src IP\n",
      "Src Port\n",
      "Dst IP\n",
      "-----\n"
     ]
    }
   ],
   "source": [
    "list_col = []\n",
    "\n",
    "for i in cols_4GB :\n",
    "    if(i in cols_other):\n",
    "        continue\n",
    "    else:\n",
    "        list_col.append(i)\n",
    "        print(i)\n",
    "print('-----')\n",
    "for i in cols_other :\n",
    "    if(i in cols_4GB):\n",
    "        continue\n",
    "    else:\n",
    "        list_col.append(i)\n",
    "        print(i)\n",
    "        "
   ]
  },
  {
   "cell_type": "code",
   "execution_count": 8,
   "metadata": {},
   "outputs": [
    {
     "name": "stderr",
     "output_type": "stream",
     "text": [
      "/Library/Frameworks/Python.framework/Versions/3.7/lib/python3.7/site-packages/IPython/core/interactiveshell.py:3248: DtypeWarning: Columns (0,1,3,4,5,6,7,8,9,10,11,12,13,14,15,16,18,19,20,21,22,23,24,25,26,27,28,29,30,31,32,33,34,35,36,37,38,39,40,41,42,43,44,45,46,47,48,49,50,51,52,53,54,55,56,57,58,59,60,61,62,63,64,65,66,67,68,69,70,71,72,73,74,75,76,77,78) have mixed types. Specify dtype option on import or set low_memory=False.\n",
      "  if (await self.run_code(code, result,  async_=asy)):\n",
      "/Library/Frameworks/Python.framework/Versions/3.7/lib/python3.7/site-packages/IPython/core/interactiveshell.py:3248: DtypeWarning: Columns (16,17) have mixed types. Specify dtype option on import or set low_memory=False.\n",
      "  if (await self.run_code(code, result,  async_=asy)):\n",
      "/Library/Frameworks/Python.framework/Versions/3.7/lib/python3.7/site-packages/IPython/core/interactiveshell.py:3248: DtypeWarning: Columns (16) have mixed types. Specify dtype option on import or set low_memory=False.\n",
      "  if (await self.run_code(code, result,  async_=asy)):\n",
      "/Library/Frameworks/Python.framework/Versions/3.7/lib/python3.7/site-packages/IPython/core/interactiveshell.py:3248: DtypeWarning: Columns (20,21) have mixed types. Specify dtype option on import or set low_memory=False.\n",
      "  if (await self.run_code(code, result,  async_=asy)):\n",
      "/Library/Frameworks/Python.framework/Versions/3.7/lib/python3.7/site-packages/IPython/core/interactiveshell.py:3248: DtypeWarning: Columns (0,1,3,4,5,6,7,8,9,10,11,12,13,14,15,16,17,18,19,20,21,22,23,24,25,26,27,28,29,30,31,32,33,34,35,36,37,38,39,40,41,42,43,44,45,46,47,48,49,50,51,52,53,54,55,56,57,58,59,60,61,62,63,64,65,66,67,68,69,70,71,72,73,74,75,76,77,78) have mixed types. Specify dtype option on import or set low_memory=False.\n",
      "  if (await self.run_code(code, result,  async_=asy)):\n",
      "/Library/Frameworks/Python.framework/Versions/3.7/lib/python3.7/site-packages/ipykernel_launcher.py:1: FutureWarning: Sorting because non-concatenation axis is not aligned. A future version\n",
      "of pandas will change to not sort by default.\n",
      "\n",
      "To accept the future behavior, pass 'sort=False'.\n",
      "\n",
      "To retain the current behavior and silence the warning, pass 'sort=True'.\n",
      "\n",
      "  \"\"\"Entry point for launching an IPython kernel.\n"
     ]
    }
   ],
   "source": [
    "combined_csv = pd.concat([pd.read_csv(f) for f in all_filenames ])\n",
    "combined_csv.to_csv( \"combined_csv.csv\", index=False, encoding='utf-8-sig')"
   ]
  },
  {
   "cell_type": "code",
   "execution_count": null,
   "metadata": {},
   "outputs": [],
   "source": []
  },
  {
   "cell_type": "code",
   "execution_count": 9,
   "metadata": {},
   "outputs": [
    {
     "name": "stderr",
     "output_type": "stream",
     "text": [
      "/Library/Frameworks/Python.framework/Versions/3.7/lib/python3.7/site-packages/IPython/core/interactiveshell.py:3057: DtypeWarning: Columns (0,1,2,3,4,5,6,7,8,9,10,11,12,13,14,15,16,17,18,19,20,21,22,23,24,25,26,27,28,29,30,31,32,33,34,35,36,37,38,39,40,41,42,43,44,45,46,47,48,49,50,51,52,53,54,55,56,57,58,59,60,62,63,64,65,66,67,68,69,70,71,72,74,75,76,77,79,80,81,82,83) have mixed types. Specify dtype option on import or set low_memory=False.\n",
      "  interactivity=interactivity, compiler=compiler, result=result)\n"
     ]
    }
   ],
   "source": [
    "combined_csv = pd.read_csv('./combined_csv.csv')"
   ]
  },
  {
   "cell_type": "code",
   "execution_count": 38,
   "metadata": {},
   "outputs": [
    {
     "data": {
      "text/plain": [
       "(16233002, 80)"
      ]
     },
     "execution_count": 38,
     "metadata": {},
     "output_type": "execute_result"
    }
   ],
   "source": [
    "combined_csv.shape"
   ]
  },
  {
   "cell_type": "code",
   "execution_count": 34,
   "metadata": {},
   "outputs": [],
   "source": [
    "combined_csv = combined_csv.drop(columns=list_col)"
   ]
  },
  {
   "cell_type": "code",
   "execution_count": 36,
   "metadata": {},
   "outputs": [],
   "source": [
    "combined_csv.to_csv( \"combined_csv.csv\", index=False, encoding='utf-8-sig')"
   ]
  },
  {
   "cell_type": "code",
   "execution_count": 23,
   "metadata": {},
   "outputs": [
    {
     "data": {
      "text/plain": [
       "0                           Benign\n",
       "97        DoS attacks-SlowHTTPTest\n",
       "91700             DoS attacks-Hulk\n",
       "999999                       Label\n",
       "Name: Label, dtype: object"
      ]
     },
     "execution_count": 23,
     "metadata": {},
     "output_type": "execute_result"
    }
   ],
   "source": [
    "labels =  df.loc[:,'Label']\n",
    "labels.drop_duplicates()"
   ]
  },
  {
   "cell_type": "code",
   "execution_count": 11,
   "metadata": {},
   "outputs": [
    {
     "name": "stdout",
     "output_type": "stream",
     "text": [
      "-------------------ACK Flag Cnt-------------------\n",
      "count     16233002\n",
      "unique           5\n",
      "top              0\n",
      "freq      10624188\n",
      "Name: ACK Flag Cnt, dtype: int64\n",
      "16233002\n",
      "-------------------Active Max-------------------\n",
      "count     16233002\n",
      "unique      926174\n",
      "top              0\n",
      "freq      14351616\n",
      "Name: Active Max, dtype: int64\n",
      "16233002\n",
      "-------------------Active Mean-------------------\n",
      "count     16233002.0\n",
      "unique     1245710.0\n",
      "top              0.0\n",
      "freq      14351616.0\n",
      "Name: Active Mean, dtype: float64\n",
      "16233002.0\n",
      "-------------------Active Min-------------------\n",
      "count     16233002\n",
      "unique      443774\n",
      "top              0\n",
      "freq      14351616\n",
      "Name: Active Min, dtype: int64\n",
      "16233002\n",
      "-------------------Active Std-------------------\n",
      "count     16233002.0\n",
      "unique     1072546.0\n",
      "top              0.0\n",
      "freq      14834354.0\n",
      "Name: Active Std, dtype: float64\n",
      "16233002.0\n",
      "-------------------Bwd Blk Rate Avg-------------------\n",
      "count     16233002\n",
      "unique           3\n",
      "top              0\n",
      "freq      15929898\n",
      "Name: Bwd Blk Rate Avg, dtype: int64\n",
      "16233002\n",
      "-------------------Bwd Byts/b Avg-------------------\n",
      "count     16233002\n",
      "unique           3\n",
      "top              0\n",
      "freq      15929898\n",
      "Name: Bwd Byts/b Avg, dtype: int64\n",
      "16233002\n",
      "-------------------Bwd Header Len-------------------\n",
      "count     16233002\n",
      "unique        8181\n",
      "top              0\n",
      "freq       4086490\n",
      "Name: Bwd Header Len, dtype: int64\n",
      "16233002\n",
      "-------------------Bwd IAT Max-------------------\n",
      "count     16233002\n",
      "unique     2032959\n",
      "top              0\n",
      "freq       9139028\n",
      "Name: Bwd IAT Max, dtype: int64\n",
      "16233002\n",
      "-------------------Bwd IAT Mean-------------------\n",
      "count     16233002.0\n",
      "unique     4314875.0\n",
      "top              0.0\n",
      "freq       9139028.0\n",
      "Name: Bwd IAT Mean, dtype: float64\n",
      "16233002.0\n",
      "-------------------Bwd IAT Min-------------------\n",
      "count     16233002\n",
      "unique      495433\n",
      "top              0\n",
      "freq       9739238\n",
      "Name: Bwd IAT Min, dtype: int64\n",
      "16233002\n",
      "-------------------Bwd IAT Std-------------------\n",
      "count     16233002.0\n",
      "unique     5127820.0\n",
      "top              0.0\n",
      "freq      10269095.0\n",
      "Name: Bwd IAT Std, dtype: float64\n",
      "16233002.0\n",
      "-------------------Bwd IAT Tot-------------------\n",
      "count     16233002\n",
      "unique     3560146\n",
      "top              0\n",
      "freq       9139028\n",
      "Name: Bwd IAT Tot, dtype: int64\n",
      "16233002\n",
      "-------------------Bwd PSH Flags-------------------\n",
      "count     16233002\n",
      "unique           3\n",
      "top              0\n",
      "freq      15929898\n",
      "Name: Bwd PSH Flags, dtype: int64\n",
      "16233002\n",
      "-------------------Bwd Pkt Len Max-------------------\n",
      "count     16233002\n",
      "unique        2289\n",
      "top              0\n",
      "freq       5861634\n",
      "Name: Bwd Pkt Len Max, dtype: int64\n",
      "16233002\n",
      "-------------------Bwd Pkt Len Mean-------------------\n",
      "count     16233002.0\n",
      "unique      298884.0\n",
      "top              0.0\n",
      "freq       5861634.0\n",
      "Name: Bwd Pkt Len Mean, dtype: float64\n",
      "16233002.0\n",
      "-------------------Bwd Pkt Len Min-------------------\n",
      "count     16233002\n",
      "unique         733\n",
      "top              0\n",
      "freq      11789666\n",
      "Name: Bwd Pkt Len Min, dtype: int64\n",
      "16233002\n",
      "-------------------Bwd Pkt Len Std-------------------\n",
      "count     16233002.0\n",
      "unique      435002.0\n",
      "top              0.0\n",
      "freq       9969454.0\n",
      "Name: Bwd Pkt Len Std, dtype: float64\n",
      "16233002.0\n",
      "-------------------Bwd Pkts/b Avg-------------------\n",
      "count     16233002\n",
      "unique           3\n",
      "top              0\n",
      "freq      15929898\n",
      "Name: Bwd Pkts/b Avg, dtype: int64\n",
      "16233002\n",
      "-------------------Bwd Pkts/s-------------------\n",
      "count     16233002.0\n",
      "unique     5409841.0\n",
      "top              0.0\n",
      "freq       4077138.0\n",
      "Name: Bwd Pkts/s, dtype: float64\n",
      "16233002.0\n",
      "-------------------Bwd Seg Size Avg-------------------\n",
      "count     16233002.0\n",
      "unique      268712.0\n",
      "top              0.0\n",
      "freq       5861634.0\n",
      "Name: Bwd Seg Size Avg, dtype: float64\n",
      "16233002.0\n",
      "-------------------Bwd URG Flags-------------------\n",
      "count     16233002\n",
      "unique           3\n",
      "top              0\n",
      "freq      15929898\n",
      "Name: Bwd URG Flags, dtype: int64\n",
      "16233002\n",
      "-------------------CWE Flag Count-------------------\n",
      "count     16233002\n",
      "unique           5\n",
      "top              0\n",
      "freq      15928249\n",
      "Name: CWE Flag Count, dtype: int64\n",
      "16233002\n",
      "-------------------Down/Up Ratio-------------------\n",
      "count     16233002\n",
      "unique         260\n",
      "top              0\n",
      "freq       8348169\n",
      "Name: Down/Up Ratio, dtype: int64\n",
      "16233002\n",
      "-------------------Dst IP-------------------\n",
      "count        7948748\n",
      "unique         27076\n",
      "top       172.31.0.2\n",
      "freq         2457307\n",
      "Name: Dst IP, dtype: object\n",
      "7948748\n",
      "-------------------Dst Port-------------------\n",
      "count     16233002\n",
      "unique       78730\n",
      "top             53\n",
      "freq       4003116\n",
      "Name: Dst Port, dtype: int64\n",
      "16233002\n",
      "-------------------ECE Flag Cnt-------------------\n",
      "count     16233002\n",
      "unique           5\n",
      "top              0\n",
      "freq      12958380\n",
      "Name: ECE Flag Cnt, dtype: int64\n",
      "16233002\n",
      "-------------------FIN Flag Cnt-------------------\n",
      "count     16233002\n",
      "unique           5\n",
      "top              0\n",
      "freq      15853421\n",
      "Name: FIN Flag Cnt, dtype: int64\n",
      "16233002\n",
      "-------------------Flow Byts/s-------------------\n"
     ]
    },
    {
     "ename": "KeyboardInterrupt",
     "evalue": "",
     "output_type": "error",
     "traceback": [
      "\u001b[0;31m---------------------------------------------------------------------------\u001b[0m",
      "\u001b[0;31mKeyboardInterrupt\u001b[0m                         Traceback (most recent call last)",
      "\u001b[0;32m<ipython-input-11-feee7ce5f834>\u001b[0m in \u001b[0;36m<module>\u001b[0;34m\u001b[0m\n\u001b[1;32m      2\u001b[0m \u001b[0;32mfor\u001b[0m \u001b[0mi\u001b[0m \u001b[0;32min\u001b[0m \u001b[0mcombined_csv\u001b[0m\u001b[0;34m.\u001b[0m\u001b[0mcolumns\u001b[0m\u001b[0;34m:\u001b[0m\u001b[0;34m\u001b[0m\u001b[0;34m\u001b[0m\u001b[0m\n\u001b[1;32m      3\u001b[0m     \u001b[0mprint\u001b[0m\u001b[0;34m(\u001b[0m\u001b[0;34m'-------------------'\u001b[0m\u001b[0;34m+\u001b[0m\u001b[0mstr\u001b[0m\u001b[0;34m(\u001b[0m\u001b[0mi\u001b[0m\u001b[0;34m)\u001b[0m\u001b[0;34m+\u001b[0m\u001b[0;34m'-------------------'\u001b[0m\u001b[0;34m)\u001b[0m\u001b[0;34m\u001b[0m\u001b[0;34m\u001b[0m\u001b[0m\n\u001b[0;32m----> 4\u001b[0;31m     \u001b[0mdescription\u001b[0m \u001b[0;34m=\u001b[0m \u001b[0mcombined_csv\u001b[0m\u001b[0;34m.\u001b[0m\u001b[0mloc\u001b[0m\u001b[0;34m[\u001b[0m\u001b[0;34m:\u001b[0m\u001b[0;34m,\u001b[0m\u001b[0mi\u001b[0m\u001b[0;34m]\u001b[0m\u001b[0;34m.\u001b[0m\u001b[0mdescribe\u001b[0m\u001b[0;34m(\u001b[0m\u001b[0;34m)\u001b[0m\u001b[0;34m\u001b[0m\u001b[0;34m\u001b[0m\u001b[0m\n\u001b[0m\u001b[1;32m      5\u001b[0m     \u001b[0mprint\u001b[0m\u001b[0;34m(\u001b[0m\u001b[0mdescription\u001b[0m\u001b[0;34m)\u001b[0m\u001b[0;34m\u001b[0m\u001b[0;34m\u001b[0m\u001b[0m\n\u001b[1;32m      6\u001b[0m     \u001b[0mprint\u001b[0m\u001b[0;34m(\u001b[0m\u001b[0mdescription\u001b[0m\u001b[0;34m[\u001b[0m\u001b[0;34m'count'\u001b[0m\u001b[0;34m]\u001b[0m\u001b[0;34m)\u001b[0m\u001b[0;34m\u001b[0m\u001b[0;34m\u001b[0m\u001b[0m\n",
      "\u001b[0;32m/Library/Frameworks/Python.framework/Versions/3.7/lib/python3.7/site-packages/pandas/core/generic.py\u001b[0m in \u001b[0;36mdescribe\u001b[0;34m(self, percentiles, include, exclude)\u001b[0m\n\u001b[1;32m  10262\u001b[0m \u001b[0;34m\u001b[0m\u001b[0m\n\u001b[1;32m  10263\u001b[0m         \u001b[0;32mif\u001b[0m \u001b[0mself\u001b[0m\u001b[0;34m.\u001b[0m\u001b[0mndim\u001b[0m \u001b[0;34m==\u001b[0m \u001b[0;36m1\u001b[0m\u001b[0;34m:\u001b[0m\u001b[0;34m\u001b[0m\u001b[0;34m\u001b[0m\u001b[0m\n\u001b[0;32m> 10264\u001b[0;31m             \u001b[0;32mreturn\u001b[0m \u001b[0mdescribe_1d\u001b[0m\u001b[0;34m(\u001b[0m\u001b[0mself\u001b[0m\u001b[0;34m)\u001b[0m\u001b[0;34m\u001b[0m\u001b[0;34m\u001b[0m\u001b[0m\n\u001b[0m\u001b[1;32m  10265\u001b[0m         \u001b[0;32melif\u001b[0m \u001b[0;34m(\u001b[0m\u001b[0minclude\u001b[0m \u001b[0;32mis\u001b[0m \u001b[0;32mNone\u001b[0m\u001b[0;34m)\u001b[0m \u001b[0;32mand\u001b[0m \u001b[0;34m(\u001b[0m\u001b[0mexclude\u001b[0m \u001b[0;32mis\u001b[0m \u001b[0;32mNone\u001b[0m\u001b[0;34m)\u001b[0m\u001b[0;34m:\u001b[0m\u001b[0;34m\u001b[0m\u001b[0;34m\u001b[0m\u001b[0m\n\u001b[1;32m  10266\u001b[0m             \u001b[0;31m# when some numerics are found, keep only numerics\u001b[0m\u001b[0;34m\u001b[0m\u001b[0;34m\u001b[0m\u001b[0;34m\u001b[0m\u001b[0m\n",
      "\u001b[0;32m/Library/Frameworks/Python.framework/Versions/3.7/lib/python3.7/site-packages/pandas/core/generic.py\u001b[0m in \u001b[0;36mdescribe_1d\u001b[0;34m(data)\u001b[0m\n\u001b[1;32m  10259\u001b[0m                 \u001b[0;32mreturn\u001b[0m \u001b[0mdescribe_numeric_1d\u001b[0m\u001b[0;34m(\u001b[0m\u001b[0mdata\u001b[0m\u001b[0;34m)\u001b[0m\u001b[0;34m\u001b[0m\u001b[0;34m\u001b[0m\u001b[0m\n\u001b[1;32m  10260\u001b[0m             \u001b[0;32melse\u001b[0m\u001b[0;34m:\u001b[0m\u001b[0;34m\u001b[0m\u001b[0;34m\u001b[0m\u001b[0m\n\u001b[0;32m> 10261\u001b[0;31m                 \u001b[0;32mreturn\u001b[0m \u001b[0mdescribe_categorical_1d\u001b[0m\u001b[0;34m(\u001b[0m\u001b[0mdata\u001b[0m\u001b[0;34m)\u001b[0m\u001b[0;34m\u001b[0m\u001b[0;34m\u001b[0m\u001b[0m\n\u001b[0m\u001b[1;32m  10262\u001b[0m \u001b[0;34m\u001b[0m\u001b[0m\n\u001b[1;32m  10263\u001b[0m         \u001b[0;32mif\u001b[0m \u001b[0mself\u001b[0m\u001b[0;34m.\u001b[0m\u001b[0mndim\u001b[0m \u001b[0;34m==\u001b[0m \u001b[0;36m1\u001b[0m\u001b[0;34m:\u001b[0m\u001b[0;34m\u001b[0m\u001b[0;34m\u001b[0m\u001b[0m\n",
      "\u001b[0;32m/Library/Frameworks/Python.framework/Versions/3.7/lib/python3.7/site-packages/pandas/core/generic.py\u001b[0m in \u001b[0;36mdescribe_categorical_1d\u001b[0;34m(data)\u001b[0m\n\u001b[1;32m  10216\u001b[0m             \u001b[0mnames\u001b[0m \u001b[0;34m=\u001b[0m \u001b[0;34m[\u001b[0m\u001b[0;34m\"count\"\u001b[0m\u001b[0;34m,\u001b[0m \u001b[0;34m\"unique\"\u001b[0m\u001b[0;34m]\u001b[0m\u001b[0;34m\u001b[0m\u001b[0;34m\u001b[0m\u001b[0m\n\u001b[1;32m  10217\u001b[0m             \u001b[0mobjcounts\u001b[0m \u001b[0;34m=\u001b[0m \u001b[0mdata\u001b[0m\u001b[0;34m.\u001b[0m\u001b[0mvalue_counts\u001b[0m\u001b[0;34m(\u001b[0m\u001b[0;34m)\u001b[0m\u001b[0;34m\u001b[0m\u001b[0;34m\u001b[0m\u001b[0m\n\u001b[0;32m> 10218\u001b[0;31m             \u001b[0mcount_unique\u001b[0m \u001b[0;34m=\u001b[0m \u001b[0mlen\u001b[0m\u001b[0;34m(\u001b[0m\u001b[0mobjcounts\u001b[0m\u001b[0;34m[\u001b[0m\u001b[0mobjcounts\u001b[0m \u001b[0;34m!=\u001b[0m \u001b[0;36m0\u001b[0m\u001b[0;34m]\u001b[0m\u001b[0;34m)\u001b[0m\u001b[0;34m\u001b[0m\u001b[0;34m\u001b[0m\u001b[0m\n\u001b[0m\u001b[1;32m  10219\u001b[0m             \u001b[0mresult\u001b[0m \u001b[0;34m=\u001b[0m \u001b[0;34m[\u001b[0m\u001b[0mdata\u001b[0m\u001b[0;34m.\u001b[0m\u001b[0mcount\u001b[0m\u001b[0;34m(\u001b[0m\u001b[0;34m)\u001b[0m\u001b[0;34m,\u001b[0m \u001b[0mcount_unique\u001b[0m\u001b[0;34m]\u001b[0m\u001b[0;34m\u001b[0m\u001b[0;34m\u001b[0m\u001b[0m\n\u001b[1;32m  10220\u001b[0m             \u001b[0mdtype\u001b[0m \u001b[0;34m=\u001b[0m \u001b[0;32mNone\u001b[0m\u001b[0;34m\u001b[0m\u001b[0;34m\u001b[0m\u001b[0m\n",
      "\u001b[0;32m/Library/Frameworks/Python.framework/Versions/3.7/lib/python3.7/site-packages/pandas/core/series.py\u001b[0m in \u001b[0;36m__getitem__\u001b[0;34m(self, key)\u001b[0m\n\u001b[1;32m   1098\u001b[0m             \u001b[0;32mraise\u001b[0m\u001b[0;34m\u001b[0m\u001b[0;34m\u001b[0m\u001b[0m\n\u001b[1;32m   1099\u001b[0m \u001b[0;34m\u001b[0m\u001b[0m\n\u001b[0;32m-> 1100\u001b[0;31m         \u001b[0;32mif\u001b[0m \u001b[0mis_iterator\u001b[0m\u001b[0;34m(\u001b[0m\u001b[0mkey\u001b[0m\u001b[0;34m)\u001b[0m\u001b[0;34m:\u001b[0m\u001b[0;34m\u001b[0m\u001b[0;34m\u001b[0m\u001b[0m\n\u001b[0m\u001b[1;32m   1101\u001b[0m             \u001b[0mkey\u001b[0m \u001b[0;34m=\u001b[0m \u001b[0mlist\u001b[0m\u001b[0;34m(\u001b[0m\u001b[0mkey\u001b[0m\u001b[0;34m)\u001b[0m\u001b[0;34m\u001b[0m\u001b[0;34m\u001b[0m\u001b[0m\n\u001b[1;32m   1102\u001b[0m \u001b[0;34m\u001b[0m\u001b[0m\n",
      "\u001b[0;32m/Library/Frameworks/Python.framework/Versions/3.7/lib/python3.7/site-packages/pandas/core/dtypes/inference.py\u001b[0m in \u001b[0;36mis_iterator\u001b[0;34m(obj)\u001b[0m\n\u001b[1;32m    149\u001b[0m         \u001b[0;32mreturn\u001b[0m \u001b[0;32mFalse\u001b[0m\u001b[0;34m\u001b[0m\u001b[0;34m\u001b[0m\u001b[0m\n\u001b[1;32m    150\u001b[0m \u001b[0;34m\u001b[0m\u001b[0m\n\u001b[0;32m--> 151\u001b[0;31m     \u001b[0;32mreturn\u001b[0m \u001b[0mhasattr\u001b[0m\u001b[0;34m(\u001b[0m\u001b[0mobj\u001b[0m\u001b[0;34m,\u001b[0m \u001b[0;34m\"__next__\"\u001b[0m\u001b[0;34m)\u001b[0m\u001b[0;34m\u001b[0m\u001b[0;34m\u001b[0m\u001b[0m\n\u001b[0m\u001b[1;32m    152\u001b[0m \u001b[0;34m\u001b[0m\u001b[0m\n\u001b[1;32m    153\u001b[0m \u001b[0;34m\u001b[0m\u001b[0m\n",
      "\u001b[0;32m/Library/Frameworks/Python.framework/Versions/3.7/lib/python3.7/site-packages/pandas/core/generic.py\u001b[0m in \u001b[0;36m__getattr__\u001b[0;34m(self, name)\u001b[0m\n\u001b[1;32m   5176\u001b[0m             \u001b[0;32mreturn\u001b[0m \u001b[0mobject\u001b[0m\u001b[0;34m.\u001b[0m\u001b[0m__getattribute__\u001b[0m\u001b[0;34m(\u001b[0m\u001b[0mself\u001b[0m\u001b[0;34m,\u001b[0m \u001b[0mname\u001b[0m\u001b[0;34m)\u001b[0m\u001b[0;34m\u001b[0m\u001b[0;34m\u001b[0m\u001b[0m\n\u001b[1;32m   5177\u001b[0m         \u001b[0;32melse\u001b[0m\u001b[0;34m:\u001b[0m\u001b[0;34m\u001b[0m\u001b[0;34m\u001b[0m\u001b[0m\n\u001b[0;32m-> 5178\u001b[0;31m             \u001b[0;32mif\u001b[0m \u001b[0mself\u001b[0m\u001b[0;34m.\u001b[0m\u001b[0m_info_axis\u001b[0m\u001b[0;34m.\u001b[0m\u001b[0m_can_hold_identifiers_and_holds_name\u001b[0m\u001b[0;34m(\u001b[0m\u001b[0mname\u001b[0m\u001b[0;34m)\u001b[0m\u001b[0;34m:\u001b[0m\u001b[0;34m\u001b[0m\u001b[0;34m\u001b[0m\u001b[0m\n\u001b[0m\u001b[1;32m   5179\u001b[0m                 \u001b[0;32mreturn\u001b[0m \u001b[0mself\u001b[0m\u001b[0;34m[\u001b[0m\u001b[0mname\u001b[0m\u001b[0;34m]\u001b[0m\u001b[0;34m\u001b[0m\u001b[0;34m\u001b[0m\u001b[0m\n\u001b[1;32m   5180\u001b[0m             \u001b[0;32mreturn\u001b[0m \u001b[0mobject\u001b[0m\u001b[0;34m.\u001b[0m\u001b[0m__getattribute__\u001b[0m\u001b[0;34m(\u001b[0m\u001b[0mself\u001b[0m\u001b[0;34m,\u001b[0m \u001b[0mname\u001b[0m\u001b[0;34m)\u001b[0m\u001b[0;34m\u001b[0m\u001b[0;34m\u001b[0m\u001b[0m\n",
      "\u001b[0;32m/Library/Frameworks/Python.framework/Versions/3.7/lib/python3.7/site-packages/pandas/core/indexes/base.py\u001b[0m in \u001b[0;36m_can_hold_identifiers_and_holds_name\u001b[0;34m(self, name)\u001b[0m\n\u001b[1;32m   4298\u001b[0m         \"\"\"\n\u001b[1;32m   4299\u001b[0m         \u001b[0;32mif\u001b[0m \u001b[0mself\u001b[0m\u001b[0;34m.\u001b[0m\u001b[0mis_object\u001b[0m\u001b[0;34m(\u001b[0m\u001b[0;34m)\u001b[0m \u001b[0;32mor\u001b[0m \u001b[0mself\u001b[0m\u001b[0;34m.\u001b[0m\u001b[0mis_categorical\u001b[0m\u001b[0;34m(\u001b[0m\u001b[0;34m)\u001b[0m\u001b[0;34m:\u001b[0m\u001b[0;34m\u001b[0m\u001b[0;34m\u001b[0m\u001b[0m\n\u001b[0;32m-> 4300\u001b[0;31m             \u001b[0;32mreturn\u001b[0m \u001b[0mname\u001b[0m \u001b[0;32min\u001b[0m \u001b[0mself\u001b[0m\u001b[0;34m\u001b[0m\u001b[0;34m\u001b[0m\u001b[0m\n\u001b[0m\u001b[1;32m   4301\u001b[0m         \u001b[0;32mreturn\u001b[0m \u001b[0;32mFalse\u001b[0m\u001b[0;34m\u001b[0m\u001b[0;34m\u001b[0m\u001b[0m\n\u001b[1;32m   4302\u001b[0m \u001b[0;34m\u001b[0m\u001b[0m\n",
      "\u001b[0;32m/Library/Frameworks/Python.framework/Versions/3.7/lib/python3.7/site-packages/pandas/core/indexes/base.py\u001b[0m in \u001b[0;36m__contains__\u001b[0;34m(self, key)\u001b[0m\n\u001b[1;32m   4223\u001b[0m         \u001b[0mhash\u001b[0m\u001b[0;34m(\u001b[0m\u001b[0mkey\u001b[0m\u001b[0;34m)\u001b[0m\u001b[0;34m\u001b[0m\u001b[0;34m\u001b[0m\u001b[0m\n\u001b[1;32m   4224\u001b[0m         \u001b[0;32mtry\u001b[0m\u001b[0;34m:\u001b[0m\u001b[0;34m\u001b[0m\u001b[0;34m\u001b[0m\u001b[0m\n\u001b[0;32m-> 4225\u001b[0;31m             \u001b[0;32mreturn\u001b[0m \u001b[0mkey\u001b[0m \u001b[0;32min\u001b[0m \u001b[0mself\u001b[0m\u001b[0;34m.\u001b[0m\u001b[0m_engine\u001b[0m\u001b[0;34m\u001b[0m\u001b[0;34m\u001b[0m\u001b[0m\n\u001b[0m\u001b[1;32m   4226\u001b[0m         \u001b[0;32mexcept\u001b[0m \u001b[0;34m(\u001b[0m\u001b[0mOverflowError\u001b[0m\u001b[0;34m,\u001b[0m \u001b[0mTypeError\u001b[0m\u001b[0;34m,\u001b[0m \u001b[0mValueError\u001b[0m\u001b[0;34m)\u001b[0m\u001b[0;34m:\u001b[0m\u001b[0;34m\u001b[0m\u001b[0;34m\u001b[0m\u001b[0m\n\u001b[1;32m   4227\u001b[0m             \u001b[0;32mreturn\u001b[0m \u001b[0;32mFalse\u001b[0m\u001b[0;34m\u001b[0m\u001b[0;34m\u001b[0m\u001b[0m\n",
      "\u001b[0;31mKeyboardInterrupt\u001b[0m: "
     ]
    }
   ],
   "source": [
    "# list_of_val_col = []\n",
    "for i in combined_csv.columns:\n",
    "    print('-------------------'+str(i)+'-------------------')\n",
    "    description = combined_csv.loc[:,i].describe()\n",
    "    print(description)\n",
    "    print(description['count'])\n",
    "#     if(description['unique']!=df.shape[0]):\n",
    "#         list_of_val_col.append(i)"
   ]
  },
  {
   "cell_type": "code",
   "execution_count": 39,
   "metadata": {},
   "outputs": [
    {
     "data": {
      "text/plain": [
       "Benign                      13484708\n",
       "DDOS attack-HOIC              686012\n",
       "DDoS attacks-LOIC-HTTP        576191\n",
       "DoS attacks-Hulk              461912\n",
       "Bot                           286191\n",
       "FTP-BruteForce                193360\n",
       "SSH-Bruteforce                187589\n",
       "Infilteration                 161934\n",
       "DoS attacks-SlowHTTPTest      139890\n",
       "DoS attacks-GoldenEye          41508\n",
       "DoS attacks-Slowloris          10990\n",
       "DDOS attack-LOIC-UDP            1730\n",
       "Brute Force -Web                 611\n",
       "Brute Force -XSS                 230\n",
       "SQL Injection                     87\n",
       "Label                             59\n",
       "Name: Label, dtype: int64"
      ]
     },
     "execution_count": 39,
     "metadata": {},
     "output_type": "execute_result"
    }
   ],
   "source": [
    "combined_csv['Label'].value_counts()"
   ]
  },
  {
   "cell_type": "code",
   "execution_count": 40,
   "metadata": {},
   "outputs": [
    {
     "name": "stdout",
     "output_type": "stream",
     "text": [
      "Index(['Flow Byts/s'], dtype='object')\n"
     ]
    }
   ],
   "source": [
    "null_columns=combined_csv.columns[combined_csv.isnull().any()]\n",
    "print(null_columns)"
   ]
  },
  {
   "cell_type": "markdown",
   "metadata": {},
   "source": [
    "### Dropping Null Rows"
   ]
  },
  {
   "cell_type": "code",
   "execution_count": 30,
   "metadata": {},
   "outputs": [
    {
     "name": "stdout",
     "output_type": "stream",
     "text": [
      "(4991201, 37)\n"
     ]
    }
   ],
   "source": [
    "result = pd.concat([c_df, y], axis=1, sort=False)\n",
    "print(result.shape)"
   ]
  },
  {
   "cell_type": "code",
   "execution_count": 33,
   "metadata": {},
   "outputs": [
    {
     "name": "stdout",
     "output_type": "stream",
     "text": [
      "(4991201, 36)\n",
      "      Dst Port Flow Duration Tot Fwd Pkts TotLen Fwd Pkts Fwd Pkt Len Max  \\\n",
      "32768       53           245            1              37              37   \n",
      "32769       53           444            1              43              43   \n",
      "32770       53           843            1              43              43   \n",
      "32771       53         27020            1              40              40   \n",
      "32772       53         43215            1              49              49   \n",
      "\n",
      "      Fwd Pkt Len Min Fwd Pkt Len Mean Fwd Pkt Len Std Bwd Pkt Len Max  \\\n",
      "32768              37               37               0              53   \n",
      "32769              43               43               0              59   \n",
      "32770              43               43               0              71   \n",
      "32771              40               40               0             146   \n",
      "32772              49               49               0              65   \n",
      "\n",
      "      Flow Byts/s  ... Pkt Len Mean Pkt Len Var PSH Flag Cnt ACK Flag Cnt  \\\n",
      "32768      367347  ...      42.3333     85.3333            0            0   \n",
      "32769      229730  ...      48.3333     85.3333            0            0   \n",
      "32770      135231  ...      52.3333     261.333            0            0   \n",
      "32771     6883.79  ...      75.3333     3745.33            0            0   \n",
      "32772     2637.97  ...      54.3333     85.3333            0            0   \n",
      "\n",
      "      Down/Up Ratio Init Fwd Win Byts Init Bwd Win Byts Fwd Seg Size Min  \\\n",
      "32768             1                -1                -1                8   \n",
      "32769             1                -1                -1                8   \n",
      "32770             1                -1                -1                8   \n",
      "32771             1                -1                -1                8   \n",
      "32772             1                -1                -1                8   \n",
      "\n",
      "      Active Min   Label  \n",
      "32768          0  Benign  \n",
      "32769          0  Benign  \n",
      "32770          0  Benign  \n",
      "32771          0  Benign  \n",
      "32772          0  Benign  \n",
      "\n",
      "[5 rows x 36 columns]\n"
     ]
    }
   ],
   "source": [
    "result = result.drop(columns=['Fwd Act Data Pkt'])\n",
    "print(result.shape)\n",
    "print(result.head())"
   ]
  },
  {
   "cell_type": "code",
   "execution_count": 34,
   "metadata": {},
   "outputs": [],
   "source": [
    "result=result.dropna(axis=0, how='any')"
   ]
  },
  {
   "cell_type": "code",
   "execution_count": 35,
   "metadata": {},
   "outputs": [
    {
     "data": {
      "text/plain": [
       "(4991201, 36)"
      ]
     },
     "execution_count": 35,
     "metadata": {},
     "output_type": "execute_result"
    }
   ],
   "source": [
    "result.shape"
   ]
  },
  {
   "cell_type": "code",
   "execution_count": 43,
   "metadata": {},
   "outputs": [
    {
     "data": {
      "text/plain": [
       "(16233002, 80)"
      ]
     },
     "execution_count": 43,
     "metadata": {},
     "output_type": "execute_result"
    }
   ],
   "source": [
    "combined_csv.shape"
   ]
  },
  {
   "cell_type": "code",
   "execution_count": 44,
   "metadata": {},
   "outputs": [],
   "source": [
    "c_df.to_csv( \"combined_csv.csv\", index=False, encoding='utf-8-sig')"
   ]
  },
  {
   "cell_type": "markdown",
   "metadata": {},
   "source": [
    "### Load Data Set"
   ]
  },
  {
   "cell_type": "code",
   "execution_count": 7,
   "metadata": {},
   "outputs": [
    {
     "name": "stderr",
     "output_type": "stream",
     "text": [
      "/Library/Frameworks/Python.framework/Versions/3.7/lib/python3.7/site-packages/IPython/core/interactiveshell.py:3057: DtypeWarning: Columns (0,1,2,3,4,5,6,7,8,9,10,11,12,13,14,15,16,17,18,19,20,21,22,23,24,25,26,27,28,29,30,31,32,33,34,35,36,37,38,39,40,41,42,43,44,45,46,47,48,49,50,51,52,53,54,55,56,57,58,60,61,62,63,64,65,66,67,68,69,70,71,72,73,75,76,77,78,79) have mixed types. Specify dtype option on import or set low_memory=False.\n",
      "  interactivity=interactivity, compiler=compiler, result=result)\n"
     ]
    }
   ],
   "source": [
    "c_df = pd.read_csv('./combined_csv.csv')"
   ]
  },
  {
   "cell_type": "code",
   "execution_count": 6,
   "metadata": {},
   "outputs": [],
   "source": [
    "from dask import dataframe as dd"
   ]
  },
  {
   "cell_type": "code",
   "execution_count": 6,
   "metadata": {},
   "outputs": [
    {
     "name": "stderr",
     "output_type": "stream",
     "text": [
      "/Library/Frameworks/Python.framework/Versions/3.7/lib/python3.7/site-packages/IPython/core/interactiveshell.py:3057: DtypeWarning: Columns (0,1,2,3,4,5,6,7,8,9,10,11,12,13,14,15,16,17,18,19,20,21,22,23,24,25,26,27,28,29,30,31,32,33,34,35,36,37,38,39,40,41,42,43,44,45,46,47,48,49,50,51,52,53,54,55,56,57,58,60,61,62,63,64,65,66,67,68,69,70,71,72,73,75,76,77,78,79) have mixed types. Specify dtype option on import or set low_memory=False.\n",
      "  interactivity=interactivity, compiler=compiler, result=result)\n"
     ]
    }
   ],
   "source": [
    "c_df = pd.read_csv('./combined_csv.csv')"
   ]
  },
  {
   "cell_type": "code",
   "execution_count": 6,
   "metadata": {},
   "outputs": [
    {
     "name": "stdout",
     "output_type": "stream",
     "text": [
      "ACK Flag Cnt\n",
      "(15861985, 80)\n",
      "Active Max\n",
      "(15861985, 80)\n",
      "Active Mean\n",
      "(15861985, 80)\n",
      "Active Min\n",
      "(15861985, 80)\n",
      "Active Std\n",
      "(15861985, 80)\n",
      "Bwd Blk Rate Avg\n",
      "(15861985, 80)\n",
      "Bwd Byts/b Avg\n",
      "(15861985, 80)\n",
      "Bwd Header Len\n",
      "(15861985, 80)\n",
      "Bwd IAT Max\n",
      "(15861985, 80)\n",
      "Bwd IAT Mean\n"
     ]
    },
    {
     "ename": "KeyboardInterrupt",
     "evalue": "",
     "output_type": "error",
     "traceback": [
      "\u001b[0;31m---------------------------------------------------------------------------\u001b[0m",
      "\u001b[0;31mKeyboardInterrupt\u001b[0m                         Traceback (most recent call last)",
      "\u001b[0;32m<ipython-input-6-7d3fb9c6e6b1>\u001b[0m in \u001b[0;36m<module>\u001b[0;34m\u001b[0m\n\u001b[1;32m      3\u001b[0m     \u001b[0;32mif\u001b[0m \u001b[0mi\u001b[0m\u001b[0;34m==\u001b[0m\u001b[0;34m'Label'\u001b[0m\u001b[0;34m:\u001b[0m\u001b[0;34m\u001b[0m\u001b[0;34m\u001b[0m\u001b[0m\n\u001b[1;32m      4\u001b[0m         \u001b[0;32mcontinue\u001b[0m\u001b[0;34m\u001b[0m\u001b[0;34m\u001b[0m\u001b[0m\n\u001b[0;32m----> 5\u001b[0;31m     \u001b[0mc_df\u001b[0m \u001b[0;34m=\u001b[0m \u001b[0mc_df\u001b[0m\u001b[0;34m[\u001b[0m\u001b[0mc_df\u001b[0m\u001b[0;34m[\u001b[0m\u001b[0mi\u001b[0m\u001b[0;34m]\u001b[0m\u001b[0;34m.\u001b[0m\u001b[0mapply\u001b[0m\u001b[0;34m(\u001b[0m\u001b[0mtype\u001b[0m\u001b[0;34m)\u001b[0m\u001b[0;34m!=\u001b[0m\u001b[0mtype\u001b[0m\u001b[0;34m(\u001b[0m\u001b[0;34m'abc'\u001b[0m\u001b[0;34m)\u001b[0m\u001b[0;34m]\u001b[0m\u001b[0;34m\u001b[0m\u001b[0;34m\u001b[0m\u001b[0m\n\u001b[0m\u001b[1;32m      6\u001b[0m     \u001b[0mprint\u001b[0m\u001b[0;34m(\u001b[0m\u001b[0mc_df\u001b[0m\u001b[0;34m.\u001b[0m\u001b[0mshape\u001b[0m\u001b[0;34m)\u001b[0m\u001b[0;34m\u001b[0m\u001b[0;34m\u001b[0m\u001b[0m\n",
      "\u001b[0;31mKeyboardInterrupt\u001b[0m: "
     ]
    }
   ],
   "source": [
    "for i in c_df.columns:\n",
    "    print(i)\n",
    "    if i=='Label':\n",
    "        continue\n",
    "    c_df = c_df[c_df[i].apply(type)!=type('abc')]\n",
    "    print(c_df.shape)"
   ]
  },
  {
   "cell_type": "code",
   "execution_count": 25,
   "metadata": {},
   "outputs": [
    {
     "data": {
      "text/plain": [
       "0           True\n",
       "1           True\n",
       "2           True\n",
       "3           True\n",
       "4           True\n",
       "            ... \n",
       "16173276    True\n",
       "16173277    True\n",
       "16173278    True\n",
       "16173279    True\n",
       "16173280    True\n",
       "Name: Dst Port, Length: 16173281, dtype: bool"
      ]
     },
     "execution_count": 25,
     "metadata": {},
     "output_type": "execute_result"
    }
   ],
   "source": [
    "c_df['Dst Port'].apply(type)!=type('abc')"
   ]
  },
  {
   "cell_type": "markdown",
   "metadata": {},
   "source": [
    "## Resampling of Data (UpSample) - Balancing"
   ]
  },
  {
   "cell_type": "code",
   "execution_count": 36,
   "metadata": {},
   "outputs": [
    {
     "name": "stdout",
     "output_type": "stream",
     "text": [
      "(4991201, 35)\n",
      "(4991201,)\n"
     ]
    }
   ],
   "source": [
    "Y = result.loc[:,'Label']\n",
    "X = result.drop(columns=['Label'])\n",
    "print(X.shape)\n",
    "print(Y.shape)"
   ]
  },
  {
   "cell_type": "code",
   "execution_count": 9,
   "metadata": {},
   "outputs": [],
   "source": [
    "X = X.rename(columns={'ACK Flag Cnt' : 'ack_fl_cnt'})"
   ]
  },
  {
   "cell_type": "code",
   "execution_count": 11,
   "metadata": {},
   "outputs": [
    {
     "name": "stderr",
     "output_type": "stream",
     "text": [
      "/Users/tanaysinghania/Documents/CODING/daskk/dask/dask/core.py:118: DtypeWarning: Columns (0,1,2,3,4,5,6,7,8,9,10,11,12,13,14,15,16,17,18,19,20,21,22,23,24,25,26,27,28,29,30,31,32,33,34,35,36,37,38,39,40,41,42,43,44,45,46,47,48,49,50,51,52,53,54,55,56,57,58,60,61,62,63,64,65,66,67,68,69,70,71,72,73,75,76,77,78,79) have mixed types. Specify dtype option on import or set low_memory=False.\n",
      "  args2 = [_execute_task(a, cache) for a in args]\n"
     ]
    },
    {
     "ename": "ValueError",
     "evalue": "Mismatched dtypes found in `pd.read_csv`/`pd.read_table`.\n\n+-------------------+--------+----------+\n| Column            | Found  | Expected |\n+-------------------+--------+----------+\n| ACK Flag Cnt      | object | int64    |\n| Active Max        | object | int64    |\n| Active Mean       | object | float64  |\n| Active Min        | object | int64    |\n| Active Std        | object | float64  |\n| Bwd Blk Rate Avg  | object | int64    |\n| Bwd Byts/b Avg    | object | int64    |\n| Bwd Header Len    | object | int64    |\n| Bwd IAT Max       | object | int64    |\n| Bwd IAT Mean      | object | float64  |\n| Bwd IAT Min       | object | int64    |\n| Bwd IAT Std       | object | float64  |\n| Bwd IAT Tot       | object | int64    |\n| Bwd PSH Flags     | object | int64    |\n| Bwd Pkt Len Max   | object | int64    |\n| Bwd Pkt Len Mean  | object | float64  |\n| Bwd Pkt Len Min   | object | int64    |\n| Bwd Pkt Len Std   | object | float64  |\n| Bwd Pkts/b Avg    | object | int64    |\n| Bwd Pkts/s        | object | float64  |\n| Bwd Seg Size Avg  | object | float64  |\n| Bwd URG Flags     | object | int64    |\n| CWE Flag Count    | object | int64    |\n| Down/Up Ratio     | object | int64    |\n| Dst Port          | object | int64    |\n| ECE Flag Cnt      | object | int64    |\n| FIN Flag Cnt      | object | int64    |\n| Flow Duration     | object | int64    |\n| Flow IAT Max      | object | int64    |\n| Flow IAT Mean     | object | float64  |\n| Flow IAT Min      | object | int64    |\n| Flow IAT Std      | object | float64  |\n| Fwd Act Data Pkts | object | int64    |\n| Fwd Blk Rate Avg  | object | int64    |\n| Fwd Byts/b Avg    | object | int64    |\n| Fwd Header Len    | object | int64    |\n| Fwd IAT Max       | object | int64    |\n| Fwd IAT Mean      | object | float64  |\n| Fwd IAT Min       | object | int64    |\n| Fwd IAT Std       | object | float64  |\n| Fwd IAT Tot       | object | int64    |\n| Fwd PSH Flags     | object | int64    |\n| Fwd Pkt Len Max   | object | int64    |\n| Fwd Pkt Len Mean  | object | float64  |\n| Fwd Pkt Len Min   | object | int64    |\n| Fwd Pkt Len Std   | object | float64  |\n| Fwd Pkts/b Avg    | object | int64    |\n| Fwd Pkts/s        | object | float64  |\n| Fwd Seg Size Avg  | object | float64  |\n| Fwd Seg Size Min  | object | int64    |\n| Fwd URG Flags     | object | int64    |\n| Idle Max          | object | int64    |\n| Idle Mean         | object | float64  |\n| Idle Min          | object | int64    |\n| Idle Std          | object | float64  |\n| Init Bwd Win Byts | object | int64    |\n| Init Fwd Win Byts | object | int64    |\n| PSH Flag Cnt      | object | int64    |\n| Pkt Len Max       | object | int64    |\n| Pkt Len Mean      | object | float64  |\n| Pkt Len Min       | object | int64    |\n| Pkt Len Std       | object | float64  |\n| Pkt Len Var       | object | float64  |\n| Pkt Size Avg      | object | float64  |\n| Protocol          | object | int64    |\n| RST Flag Cnt      | object | int64    |\n| SYN Flag Cnt      | object | int64    |\n| Subflow Bwd Byts  | object | int64    |\n| Subflow Bwd Pkts  | object | int64    |\n| Subflow Fwd Byts  | object | int64    |\n| Subflow Fwd Pkts  | object | int64    |\n| Tot Bwd Pkts      | object | int64    |\n| Tot Fwd Pkts      | object | int64    |\n| TotLen Bwd Pkts   | object | int64    |\n| TotLen Fwd Pkts   | object | int64    |\n| URG Flag Cnt      | object | int64    |\n+-------------------+--------+----------+\n\nThe following columns also raised exceptions on conversion:\n\n- ACK Flag Cnt\n  ValueError(\"invalid literal for int() with base 10: 'ACK Flag Cnt'\")\n- Active Max\n  ValueError(\"invalid literal for int() with base 10: 'Active Max'\")\n- Active Mean\n  ValueError(\"could not convert string to float: 'Active Mean'\")\n- Active Min\n  ValueError(\"invalid literal for int() with base 10: 'Active Min'\")\n- Active Std\n  ValueError(\"could not convert string to float: 'Active Std'\")\n- Bwd Blk Rate Avg\n  ValueError(\"invalid literal for int() with base 10: 'Bwd Blk Rate Avg'\")\n- Bwd Byts/b Avg\n  ValueError(\"invalid literal for int() with base 10: 'Bwd Byts/b Avg'\")\n- Bwd Header Len\n  ValueError(\"invalid literal for int() with base 10: 'Bwd Header Len'\")\n- Bwd IAT Max\n  ValueError(\"invalid literal for int() with base 10: 'Bwd IAT Max'\")\n- Bwd IAT Mean\n  ValueError(\"could not convert string to float: 'Bwd IAT Mean'\")\n- Bwd IAT Min\n  ValueError(\"invalid literal for int() with base 10: 'Bwd IAT Min'\")\n- Bwd IAT Std\n  ValueError(\"could not convert string to float: 'Bwd IAT Std'\")\n- Bwd IAT Tot\n  ValueError(\"invalid literal for int() with base 10: 'Bwd IAT Tot'\")\n- Bwd PSH Flags\n  ValueError(\"invalid literal for int() with base 10: 'Bwd PSH Flags'\")\n- Bwd Pkt Len Max\n  ValueError(\"invalid literal for int() with base 10: 'Bwd Pkt Len Max'\")\n- Bwd Pkt Len Mean\n  ValueError(\"could not convert string to float: 'Bwd Pkt Len Mean'\")\n- Bwd Pkt Len Min\n  ValueError(\"invalid literal for int() with base 10: 'Bwd Pkt Len Min'\")\n- Bwd Pkt Len Std\n  ValueError(\"could not convert string to float: 'Bwd Pkt Len Std'\")\n- Bwd Pkts/b Avg\n  ValueError(\"invalid literal for int() with base 10: 'Bwd Pkts/b Avg'\")\n- Bwd Pkts/s\n  ValueError(\"could not convert string to float: 'Bwd Pkts/s'\")\n- Bwd Seg Size Avg\n  ValueError(\"could not convert string to float: 'Bwd Seg Size Avg'\")\n- Bwd URG Flags\n  ValueError(\"invalid literal for int() with base 10: 'Bwd URG Flags'\")\n- CWE Flag Count\n  ValueError(\"invalid literal for int() with base 10: 'CWE Flag Count'\")\n- Down/Up Ratio\n  ValueError(\"invalid literal for int() with base 10: 'Down/Up Ratio'\")\n- Dst Port\n  ValueError(\"invalid literal for int() with base 10: 'Dst Port'\")\n- ECE Flag Cnt\n  ValueError(\"invalid literal for int() with base 10: 'ECE Flag Cnt'\")\n- FIN Flag Cnt\n  ValueError(\"invalid literal for int() with base 10: 'FIN Flag Cnt'\")\n- Flow Duration\n  ValueError(\"invalid literal for int() with base 10: 'Flow Duration'\")\n- Flow IAT Max\n  ValueError(\"invalid literal for int() with base 10: 'Flow IAT Max'\")\n- Flow IAT Mean\n  ValueError(\"could not convert string to float: 'Flow IAT Mean'\")\n- Flow IAT Min\n  ValueError(\"invalid literal for int() with base 10: 'Flow IAT Min'\")\n- Flow IAT Std\n  ValueError(\"could not convert string to float: 'Flow IAT Std'\")\n- Fwd Act Data Pkts\n  ValueError(\"invalid literal for int() with base 10: 'Fwd Act Data Pkts'\")\n- Fwd Blk Rate Avg\n  ValueError(\"invalid literal for int() with base 10: 'Fwd Blk Rate Avg'\")\n- Fwd Byts/b Avg\n  ValueError(\"invalid literal for int() with base 10: 'Fwd Byts/b Avg'\")\n- Fwd Header Len\n  ValueError(\"invalid literal for int() with base 10: 'Fwd Header Len'\")\n- Fwd IAT Max\n  ValueError(\"invalid literal for int() with base 10: 'Fwd IAT Max'\")\n- Fwd IAT Mean\n  ValueError(\"could not convert string to float: 'Fwd IAT Mean'\")\n- Fwd IAT Min\n  ValueError(\"invalid literal for int() with base 10: 'Fwd IAT Min'\")\n- Fwd IAT Std\n  ValueError(\"could not convert string to float: 'Fwd IAT Std'\")\n- Fwd IAT Tot\n  ValueError(\"invalid literal for int() with base 10: 'Fwd IAT Tot'\")\n- Fwd PSH Flags\n  ValueError(\"invalid literal for int() with base 10: 'Fwd PSH Flags'\")\n- Fwd Pkt Len Max\n  ValueError(\"invalid literal for int() with base 10: 'Fwd Pkt Len Max'\")\n- Fwd Pkt Len Mean\n  ValueError(\"could not convert string to float: 'Fwd Pkt Len Mean'\")\n- Fwd Pkt Len Min\n  ValueError(\"invalid literal for int() with base 10: 'Fwd Pkt Len Min'\")\n- Fwd Pkt Len Std\n  ValueError(\"could not convert string to float: 'Fwd Pkt Len Std'\")\n- Fwd Pkts/b Avg\n  ValueError(\"invalid literal for int() with base 10: 'Fwd Pkts/b Avg'\")\n- Fwd Pkts/s\n  ValueError(\"could not convert string to float: 'Fwd Pkts/s'\")\n- Fwd Seg Size Avg\n  ValueError(\"could not convert string to float: 'Fwd Seg Size Avg'\")\n- Fwd Seg Size Min\n  ValueError(\"invalid literal for int() with base 10: 'Fwd Seg Size Min'\")\n- Fwd URG Flags\n  ValueError(\"invalid literal for int() with base 10: 'Fwd URG Flags'\")\n- Idle Max\n  ValueError(\"invalid literal for int() with base 10: 'Idle Max'\")\n- Idle Mean\n  ValueError(\"could not convert string to float: 'Idle Mean'\")\n- Idle Min\n  ValueError(\"invalid literal for int() with base 10: 'Idle Min'\")\n- Idle Std\n  ValueError(\"could not convert string to float: 'Idle Std'\")\n- Init Bwd Win Byts\n  ValueError(\"invalid literal for int() with base 10: 'Init Bwd Win Byts'\")\n- Init Fwd Win Byts\n  ValueError(\"invalid literal for int() with base 10: 'Init Fwd Win Byts'\")\n- PSH Flag Cnt\n  ValueError(\"invalid literal for int() with base 10: 'PSH Flag Cnt'\")\n- Pkt Len Max\n  ValueError(\"invalid literal for int() with base 10: 'Pkt Len Max'\")\n- Pkt Len Mean\n  ValueError(\"could not convert string to float: 'Pkt Len Mean'\")\n- Pkt Len Min\n  ValueError(\"invalid literal for int() with base 10: 'Pkt Len Min'\")\n- Pkt Len Std\n  ValueError(\"could not convert string to float: 'Pkt Len Std'\")\n- Pkt Len Var\n  ValueError(\"could not convert string to float: 'Pkt Len Var'\")\n- Pkt Size Avg\n  ValueError(\"could not convert string to float: 'Pkt Size Avg'\")\n- Protocol\n  ValueError(\"invalid literal for int() with base 10: 'Protocol'\")\n- RST Flag Cnt\n  ValueError(\"invalid literal for int() with base 10: 'RST Flag Cnt'\")\n- SYN Flag Cnt\n  ValueError(\"invalid literal for int() with base 10: 'SYN Flag Cnt'\")\n- Subflow Bwd Byts\n  ValueError(\"invalid literal for int() with base 10: 'Subflow Bwd Byts'\")\n- Subflow Bwd Pkts\n  ValueError(\"invalid literal for int() with base 10: 'Subflow Bwd Pkts'\")\n- Subflow Fwd Byts\n  ValueError(\"invalid literal for int() with base 10: 'Subflow Fwd Byts'\")\n- Subflow Fwd Pkts\n  ValueError(\"invalid literal for int() with base 10: 'Subflow Fwd Pkts'\")\n- Tot Bwd Pkts\n  ValueError(\"invalid literal for int() with base 10: 'Tot Bwd Pkts'\")\n- Tot Fwd Pkts\n  ValueError(\"invalid literal for int() with base 10: 'Tot Fwd Pkts'\")\n- TotLen Bwd Pkts\n  ValueError(\"invalid literal for int() with base 10: 'TotLen Bwd Pkts'\")\n- TotLen Fwd Pkts\n  ValueError(\"invalid literal for int() with base 10: 'TotLen Fwd Pkts'\")\n- URG Flag Cnt\n  ValueError(\"invalid literal for int() with base 10: 'URG Flag Cnt'\")\n\nUsually this is due to dask's dtype inference failing, and\n*may* be fixed by specifying dtypes manually by adding:\n\ndtype={'ACK Flag Cnt': 'object',\n       'Active Max': 'object',\n       'Active Mean': 'object',\n       'Active Min': 'object',\n       'Active Std': 'object',\n       'Bwd Blk Rate Avg': 'object',\n       'Bwd Byts/b Avg': 'object',\n       'Bwd Header Len': 'object',\n       'Bwd IAT Max': 'object',\n       'Bwd IAT Mean': 'object',\n       'Bwd IAT Min': 'object',\n       'Bwd IAT Std': 'object',\n       'Bwd IAT Tot': 'object',\n       'Bwd PSH Flags': 'object',\n       'Bwd Pkt Len Max': 'object',\n       'Bwd Pkt Len Mean': 'object',\n       'Bwd Pkt Len Min': 'object',\n       'Bwd Pkt Len Std': 'object',\n       'Bwd Pkts/b Avg': 'object',\n       'Bwd Pkts/s': 'object',\n       'Bwd Seg Size Avg': 'object',\n       'Bwd URG Flags': 'object',\n       'CWE Flag Count': 'object',\n       'Down/Up Ratio': 'object',\n       'Dst Port': 'object',\n       'ECE Flag Cnt': 'object',\n       'FIN Flag Cnt': 'object',\n       'Flow Duration': 'object',\n       'Flow IAT Max': 'object',\n       'Flow IAT Mean': 'object',\n       'Flow IAT Min': 'object',\n       'Flow IAT Std': 'object',\n       'Fwd Act Data Pkts': 'object',\n       'Fwd Blk Rate Avg': 'object',\n       'Fwd Byts/b Avg': 'object',\n       'Fwd Header Len': 'object',\n       'Fwd IAT Max': 'object',\n       'Fwd IAT Mean': 'object',\n       'Fwd IAT Min': 'object',\n       'Fwd IAT Std': 'object',\n       'Fwd IAT Tot': 'object',\n       'Fwd PSH Flags': 'object',\n       'Fwd Pkt Len Max': 'object',\n       'Fwd Pkt Len Mean': 'object',\n       'Fwd Pkt Len Min': 'object',\n       'Fwd Pkt Len Std': 'object',\n       'Fwd Pkts/b Avg': 'object',\n       'Fwd Pkts/s': 'object',\n       'Fwd Seg Size Avg': 'object',\n       'Fwd Seg Size Min': 'object',\n       'Fwd URG Flags': 'object',\n       'Idle Max': 'object',\n       'Idle Mean': 'object',\n       'Idle Min': 'object',\n       'Idle Std': 'object',\n       'Init Bwd Win Byts': 'object',\n       'Init Fwd Win Byts': 'object',\n       'PSH Flag Cnt': 'object',\n       'Pkt Len Max': 'object',\n       'Pkt Len Mean': 'object',\n       'Pkt Len Min': 'object',\n       'Pkt Len Std': 'object',\n       'Pkt Len Var': 'object',\n       'Pkt Size Avg': 'object',\n       'Protocol': 'object',\n       'RST Flag Cnt': 'object',\n       'SYN Flag Cnt': 'object',\n       'Subflow Bwd Byts': 'object',\n       'Subflow Bwd Pkts': 'object',\n       'Subflow Fwd Byts': 'object',\n       'Subflow Fwd Pkts': 'object',\n       'Tot Bwd Pkts': 'object',\n       'Tot Fwd Pkts': 'object',\n       'TotLen Bwd Pkts': 'object',\n       'TotLen Fwd Pkts': 'object',\n       'URG Flag Cnt': 'object'}\n\nto the call to `read_csv`/`read_table`.",
     "output_type": "error",
     "traceback": [
      "\u001b[0;31m---------------------------------------------------------------------------\u001b[0m",
      "\u001b[0;31mValueError\u001b[0m                                Traceback (most recent call last)",
      "\u001b[0;32m<ipython-input-11-6bd54301f65c>\u001b[0m in \u001b[0;36m<module>\u001b[0;34m\u001b[0m\n\u001b[0;32m----> 1\u001b[0;31m \u001b[0mdf2\u001b[0m \u001b[0;34m=\u001b[0m \u001b[0mc_df\u001b[0m\u001b[0;34m[\u001b[0m\u001b[0mX\u001b[0m\u001b[0;34m.\u001b[0m\u001b[0mack_fl_cnt\u001b[0m \u001b[0;34m!=\u001b[0m\u001b[0;34m'ACK Flag Cnt'\u001b[0m\u001b[0;34m]\u001b[0m\u001b[0;34m.\u001b[0m\u001b[0mcompute\u001b[0m\u001b[0;34m(\u001b[0m\u001b[0;34m)\u001b[0m\u001b[0;34m\u001b[0m\u001b[0;34m\u001b[0m\u001b[0m\n\u001b[0m",
      "\u001b[0;32m~/Documents/CODING/daskk/dask/dask/base.py\u001b[0m in \u001b[0;36mcompute\u001b[0;34m(self, **kwargs)\u001b[0m\n\u001b[1;32m    163\u001b[0m         \u001b[0mdask\u001b[0m\u001b[0;34m.\u001b[0m\u001b[0mbase\u001b[0m\u001b[0;34m.\u001b[0m\u001b[0mcompute\u001b[0m\u001b[0;34m\u001b[0m\u001b[0;34m\u001b[0m\u001b[0m\n\u001b[1;32m    164\u001b[0m         \"\"\"\n\u001b[0;32m--> 165\u001b[0;31m         \u001b[0;34m(\u001b[0m\u001b[0mresult\u001b[0m\u001b[0;34m,\u001b[0m\u001b[0;34m)\u001b[0m \u001b[0;34m=\u001b[0m \u001b[0mcompute\u001b[0m\u001b[0;34m(\u001b[0m\u001b[0mself\u001b[0m\u001b[0;34m,\u001b[0m \u001b[0mtraverse\u001b[0m\u001b[0;34m=\u001b[0m\u001b[0;32mFalse\u001b[0m\u001b[0;34m,\u001b[0m \u001b[0;34m**\u001b[0m\u001b[0mkwargs\u001b[0m\u001b[0;34m)\u001b[0m\u001b[0;34m\u001b[0m\u001b[0;34m\u001b[0m\u001b[0m\n\u001b[0m\u001b[1;32m    166\u001b[0m         \u001b[0;32mreturn\u001b[0m \u001b[0mresult\u001b[0m\u001b[0;34m\u001b[0m\u001b[0;34m\u001b[0m\u001b[0m\n\u001b[1;32m    167\u001b[0m \u001b[0;34m\u001b[0m\u001b[0m\n",
      "\u001b[0;32m~/Documents/CODING/daskk/dask/dask/base.py\u001b[0m in \u001b[0;36mcompute\u001b[0;34m(*args, **kwargs)\u001b[0m\n\u001b[1;32m    434\u001b[0m     \u001b[0mkeys\u001b[0m \u001b[0;34m=\u001b[0m \u001b[0;34m[\u001b[0m\u001b[0mx\u001b[0m\u001b[0;34m.\u001b[0m\u001b[0m__dask_keys__\u001b[0m\u001b[0;34m(\u001b[0m\u001b[0;34m)\u001b[0m \u001b[0;32mfor\u001b[0m \u001b[0mx\u001b[0m \u001b[0;32min\u001b[0m \u001b[0mcollections\u001b[0m\u001b[0;34m]\u001b[0m\u001b[0;34m\u001b[0m\u001b[0;34m\u001b[0m\u001b[0m\n\u001b[1;32m    435\u001b[0m     \u001b[0mpostcomputes\u001b[0m \u001b[0;34m=\u001b[0m \u001b[0;34m[\u001b[0m\u001b[0mx\u001b[0m\u001b[0;34m.\u001b[0m\u001b[0m__dask_postcompute__\u001b[0m\u001b[0;34m(\u001b[0m\u001b[0;34m)\u001b[0m \u001b[0;32mfor\u001b[0m \u001b[0mx\u001b[0m \u001b[0;32min\u001b[0m \u001b[0mcollections\u001b[0m\u001b[0;34m]\u001b[0m\u001b[0;34m\u001b[0m\u001b[0;34m\u001b[0m\u001b[0m\n\u001b[0;32m--> 436\u001b[0;31m     \u001b[0mresults\u001b[0m \u001b[0;34m=\u001b[0m \u001b[0mschedule\u001b[0m\u001b[0;34m(\u001b[0m\u001b[0mdsk\u001b[0m\u001b[0;34m,\u001b[0m \u001b[0mkeys\u001b[0m\u001b[0;34m,\u001b[0m \u001b[0;34m**\u001b[0m\u001b[0mkwargs\u001b[0m\u001b[0;34m)\u001b[0m\u001b[0;34m\u001b[0m\u001b[0;34m\u001b[0m\u001b[0m\n\u001b[0m\u001b[1;32m    437\u001b[0m     \u001b[0;32mreturn\u001b[0m \u001b[0mrepack\u001b[0m\u001b[0;34m(\u001b[0m\u001b[0;34m[\u001b[0m\u001b[0mf\u001b[0m\u001b[0;34m(\u001b[0m\u001b[0mr\u001b[0m\u001b[0;34m,\u001b[0m \u001b[0;34m*\u001b[0m\u001b[0ma\u001b[0m\u001b[0;34m)\u001b[0m \u001b[0;32mfor\u001b[0m \u001b[0mr\u001b[0m\u001b[0;34m,\u001b[0m \u001b[0;34m(\u001b[0m\u001b[0mf\u001b[0m\u001b[0;34m,\u001b[0m \u001b[0ma\u001b[0m\u001b[0;34m)\u001b[0m \u001b[0;32min\u001b[0m \u001b[0mzip\u001b[0m\u001b[0;34m(\u001b[0m\u001b[0mresults\u001b[0m\u001b[0;34m,\u001b[0m \u001b[0mpostcomputes\u001b[0m\u001b[0;34m)\u001b[0m\u001b[0;34m]\u001b[0m\u001b[0;34m)\u001b[0m\u001b[0;34m\u001b[0m\u001b[0;34m\u001b[0m\u001b[0m\n\u001b[1;32m    438\u001b[0m \u001b[0;34m\u001b[0m\u001b[0m\n",
      "\u001b[0;32m~/Documents/CODING/daskk/dask/dask/threaded.py\u001b[0m in \u001b[0;36mget\u001b[0;34m(dsk, result, cache, num_workers, pool, **kwargs)\u001b[0m\n\u001b[1;32m     79\u001b[0m         \u001b[0mget_id\u001b[0m\u001b[0;34m=\u001b[0m\u001b[0m_thread_get_id\u001b[0m\u001b[0;34m,\u001b[0m\u001b[0;34m\u001b[0m\u001b[0;34m\u001b[0m\u001b[0m\n\u001b[1;32m     80\u001b[0m         \u001b[0mpack_exception\u001b[0m\u001b[0;34m=\u001b[0m\u001b[0mpack_exception\u001b[0m\u001b[0;34m,\u001b[0m\u001b[0;34m\u001b[0m\u001b[0;34m\u001b[0m\u001b[0m\n\u001b[0;32m---> 81\u001b[0;31m         \u001b[0;34m**\u001b[0m\u001b[0mkwargs\u001b[0m\u001b[0;34m\u001b[0m\u001b[0;34m\u001b[0m\u001b[0m\n\u001b[0m\u001b[1;32m     82\u001b[0m     )\n\u001b[1;32m     83\u001b[0m \u001b[0;34m\u001b[0m\u001b[0m\n",
      "\u001b[0;32m~/Documents/CODING/daskk/dask/dask/local.py\u001b[0m in \u001b[0;36mget_async\u001b[0;34m(apply_async, num_workers, dsk, result, cache, get_id, rerun_exceptions_locally, pack_exception, raise_exception, callbacks, dumps, loads, **kwargs)\u001b[0m\n\u001b[1;32m    484\u001b[0m                         \u001b[0m_execute_task\u001b[0m\u001b[0;34m(\u001b[0m\u001b[0mtask\u001b[0m\u001b[0;34m,\u001b[0m \u001b[0mdata\u001b[0m\u001b[0;34m)\u001b[0m  \u001b[0;31m# Re-execute locally\u001b[0m\u001b[0;34m\u001b[0m\u001b[0;34m\u001b[0m\u001b[0m\n\u001b[1;32m    485\u001b[0m                     \u001b[0;32melse\u001b[0m\u001b[0;34m:\u001b[0m\u001b[0;34m\u001b[0m\u001b[0;34m\u001b[0m\u001b[0m\n\u001b[0;32m--> 486\u001b[0;31m                         \u001b[0mraise_exception\u001b[0m\u001b[0;34m(\u001b[0m\u001b[0mexc\u001b[0m\u001b[0;34m,\u001b[0m \u001b[0mtb\u001b[0m\u001b[0;34m)\u001b[0m\u001b[0;34m\u001b[0m\u001b[0;34m\u001b[0m\u001b[0m\n\u001b[0m\u001b[1;32m    487\u001b[0m                 \u001b[0mres\u001b[0m\u001b[0;34m,\u001b[0m \u001b[0mworker_id\u001b[0m \u001b[0;34m=\u001b[0m \u001b[0mloads\u001b[0m\u001b[0;34m(\u001b[0m\u001b[0mres_info\u001b[0m\u001b[0;34m)\u001b[0m\u001b[0;34m\u001b[0m\u001b[0;34m\u001b[0m\u001b[0m\n\u001b[1;32m    488\u001b[0m                 \u001b[0mstate\u001b[0m\u001b[0;34m[\u001b[0m\u001b[0;34m\"cache\"\u001b[0m\u001b[0;34m]\u001b[0m\u001b[0;34m[\u001b[0m\u001b[0mkey\u001b[0m\u001b[0;34m]\u001b[0m \u001b[0;34m=\u001b[0m \u001b[0mres\u001b[0m\u001b[0;34m\u001b[0m\u001b[0;34m\u001b[0m\u001b[0m\n",
      "\u001b[0;32m~/Documents/CODING/daskk/dask/dask/local.py\u001b[0m in \u001b[0;36mreraise\u001b[0;34m(exc, tb)\u001b[0m\n\u001b[1;32m    314\u001b[0m     \u001b[0;32mif\u001b[0m \u001b[0mexc\u001b[0m\u001b[0;34m.\u001b[0m\u001b[0m__traceback__\u001b[0m \u001b[0;32mis\u001b[0m \u001b[0;32mnot\u001b[0m \u001b[0mtb\u001b[0m\u001b[0;34m:\u001b[0m\u001b[0;34m\u001b[0m\u001b[0;34m\u001b[0m\u001b[0m\n\u001b[1;32m    315\u001b[0m         \u001b[0;32mraise\u001b[0m \u001b[0mexc\u001b[0m\u001b[0;34m.\u001b[0m\u001b[0mwith_traceback\u001b[0m\u001b[0;34m(\u001b[0m\u001b[0mtb\u001b[0m\u001b[0;34m)\u001b[0m\u001b[0;34m\u001b[0m\u001b[0;34m\u001b[0m\u001b[0m\n\u001b[0;32m--> 316\u001b[0;31m     \u001b[0;32mraise\u001b[0m \u001b[0mexc\u001b[0m\u001b[0;34m\u001b[0m\u001b[0;34m\u001b[0m\u001b[0m\n\u001b[0m\u001b[1;32m    317\u001b[0m \u001b[0;34m\u001b[0m\u001b[0m\n\u001b[1;32m    318\u001b[0m \u001b[0;34m\u001b[0m\u001b[0m\n",
      "\u001b[0;32m~/Documents/CODING/daskk/dask/dask/local.py\u001b[0m in \u001b[0;36mexecute_task\u001b[0;34m(key, task_info, dumps, loads, get_id, pack_exception)\u001b[0m\n\u001b[1;32m    220\u001b[0m     \u001b[0;32mtry\u001b[0m\u001b[0;34m:\u001b[0m\u001b[0;34m\u001b[0m\u001b[0;34m\u001b[0m\u001b[0m\n\u001b[1;32m    221\u001b[0m         \u001b[0mtask\u001b[0m\u001b[0;34m,\u001b[0m \u001b[0mdata\u001b[0m \u001b[0;34m=\u001b[0m \u001b[0mloads\u001b[0m\u001b[0;34m(\u001b[0m\u001b[0mtask_info\u001b[0m\u001b[0;34m)\u001b[0m\u001b[0;34m\u001b[0m\u001b[0;34m\u001b[0m\u001b[0m\n\u001b[0;32m--> 222\u001b[0;31m         \u001b[0mresult\u001b[0m \u001b[0;34m=\u001b[0m \u001b[0m_execute_task\u001b[0m\u001b[0;34m(\u001b[0m\u001b[0mtask\u001b[0m\u001b[0;34m,\u001b[0m \u001b[0mdata\u001b[0m\u001b[0;34m)\u001b[0m\u001b[0;34m\u001b[0m\u001b[0;34m\u001b[0m\u001b[0m\n\u001b[0m\u001b[1;32m    223\u001b[0m         \u001b[0mid\u001b[0m \u001b[0;34m=\u001b[0m \u001b[0mget_id\u001b[0m\u001b[0;34m(\u001b[0m\u001b[0;34m)\u001b[0m\u001b[0;34m\u001b[0m\u001b[0;34m\u001b[0m\u001b[0m\n\u001b[1;32m    224\u001b[0m         \u001b[0mresult\u001b[0m \u001b[0;34m=\u001b[0m \u001b[0mdumps\u001b[0m\u001b[0;34m(\u001b[0m\u001b[0;34m(\u001b[0m\u001b[0mresult\u001b[0m\u001b[0;34m,\u001b[0m \u001b[0mid\u001b[0m\u001b[0;34m)\u001b[0m\u001b[0;34m)\u001b[0m\u001b[0;34m\u001b[0m\u001b[0;34m\u001b[0m\u001b[0m\n",
      "\u001b[0;32m~/Documents/CODING/daskk/dask/dask/core.py\u001b[0m in \u001b[0;36m_execute_task\u001b[0;34m(arg, cache, dsk)\u001b[0m\n\u001b[1;32m    116\u001b[0m     \u001b[0;32melif\u001b[0m \u001b[0mistask\u001b[0m\u001b[0;34m(\u001b[0m\u001b[0marg\u001b[0m\u001b[0;34m)\u001b[0m\u001b[0;34m:\u001b[0m\u001b[0;34m\u001b[0m\u001b[0;34m\u001b[0m\u001b[0m\n\u001b[1;32m    117\u001b[0m         \u001b[0mfunc\u001b[0m\u001b[0;34m,\u001b[0m \u001b[0margs\u001b[0m \u001b[0;34m=\u001b[0m \u001b[0marg\u001b[0m\u001b[0;34m[\u001b[0m\u001b[0;36m0\u001b[0m\u001b[0;34m]\u001b[0m\u001b[0;34m,\u001b[0m \u001b[0marg\u001b[0m\u001b[0;34m[\u001b[0m\u001b[0;36m1\u001b[0m\u001b[0;34m:\u001b[0m\u001b[0;34m]\u001b[0m\u001b[0;34m\u001b[0m\u001b[0;34m\u001b[0m\u001b[0m\n\u001b[0;32m--> 118\u001b[0;31m         \u001b[0margs2\u001b[0m \u001b[0;34m=\u001b[0m \u001b[0;34m[\u001b[0m\u001b[0m_execute_task\u001b[0m\u001b[0;34m(\u001b[0m\u001b[0ma\u001b[0m\u001b[0;34m,\u001b[0m \u001b[0mcache\u001b[0m\u001b[0;34m)\u001b[0m \u001b[0;32mfor\u001b[0m \u001b[0ma\u001b[0m \u001b[0;32min\u001b[0m \u001b[0margs\u001b[0m\u001b[0;34m]\u001b[0m\u001b[0;34m\u001b[0m\u001b[0;34m\u001b[0m\u001b[0m\n\u001b[0m\u001b[1;32m    119\u001b[0m         \u001b[0;32mreturn\u001b[0m \u001b[0mfunc\u001b[0m\u001b[0;34m(\u001b[0m\u001b[0;34m*\u001b[0m\u001b[0margs2\u001b[0m\u001b[0;34m)\u001b[0m\u001b[0;34m\u001b[0m\u001b[0;34m\u001b[0m\u001b[0m\n\u001b[1;32m    120\u001b[0m     \u001b[0;32melif\u001b[0m \u001b[0;32mnot\u001b[0m \u001b[0mishashable\u001b[0m\u001b[0;34m(\u001b[0m\u001b[0marg\u001b[0m\u001b[0;34m)\u001b[0m\u001b[0;34m:\u001b[0m\u001b[0;34m\u001b[0m\u001b[0;34m\u001b[0m\u001b[0m\n",
      "\u001b[0;32m~/Documents/CODING/daskk/dask/dask/core.py\u001b[0m in \u001b[0;36m<listcomp>\u001b[0;34m(.0)\u001b[0m\n\u001b[1;32m    116\u001b[0m     \u001b[0;32melif\u001b[0m \u001b[0mistask\u001b[0m\u001b[0;34m(\u001b[0m\u001b[0marg\u001b[0m\u001b[0;34m)\u001b[0m\u001b[0;34m:\u001b[0m\u001b[0;34m\u001b[0m\u001b[0;34m\u001b[0m\u001b[0m\n\u001b[1;32m    117\u001b[0m         \u001b[0mfunc\u001b[0m\u001b[0;34m,\u001b[0m \u001b[0margs\u001b[0m \u001b[0;34m=\u001b[0m \u001b[0marg\u001b[0m\u001b[0;34m[\u001b[0m\u001b[0;36m0\u001b[0m\u001b[0;34m]\u001b[0m\u001b[0;34m,\u001b[0m \u001b[0marg\u001b[0m\u001b[0;34m[\u001b[0m\u001b[0;36m1\u001b[0m\u001b[0;34m:\u001b[0m\u001b[0;34m]\u001b[0m\u001b[0;34m\u001b[0m\u001b[0;34m\u001b[0m\u001b[0m\n\u001b[0;32m--> 118\u001b[0;31m         \u001b[0margs2\u001b[0m \u001b[0;34m=\u001b[0m \u001b[0;34m[\u001b[0m\u001b[0m_execute_task\u001b[0m\u001b[0;34m(\u001b[0m\u001b[0ma\u001b[0m\u001b[0;34m,\u001b[0m \u001b[0mcache\u001b[0m\u001b[0;34m)\u001b[0m \u001b[0;32mfor\u001b[0m \u001b[0ma\u001b[0m \u001b[0;32min\u001b[0m \u001b[0margs\u001b[0m\u001b[0;34m]\u001b[0m\u001b[0;34m\u001b[0m\u001b[0;34m\u001b[0m\u001b[0m\n\u001b[0m\u001b[1;32m    119\u001b[0m         \u001b[0;32mreturn\u001b[0m \u001b[0mfunc\u001b[0m\u001b[0;34m(\u001b[0m\u001b[0;34m*\u001b[0m\u001b[0margs2\u001b[0m\u001b[0;34m)\u001b[0m\u001b[0;34m\u001b[0m\u001b[0;34m\u001b[0m\u001b[0m\n\u001b[1;32m    120\u001b[0m     \u001b[0;32melif\u001b[0m \u001b[0;32mnot\u001b[0m \u001b[0mishashable\u001b[0m\u001b[0;34m(\u001b[0m\u001b[0marg\u001b[0m\u001b[0;34m)\u001b[0m\u001b[0;34m:\u001b[0m\u001b[0;34m\u001b[0m\u001b[0;34m\u001b[0m\u001b[0m\n",
      "\u001b[0;32m~/Documents/CODING/daskk/dask/dask/core.py\u001b[0m in \u001b[0;36m_execute_task\u001b[0;34m(arg, cache, dsk)\u001b[0m\n\u001b[1;32m    116\u001b[0m     \u001b[0;32melif\u001b[0m \u001b[0mistask\u001b[0m\u001b[0;34m(\u001b[0m\u001b[0marg\u001b[0m\u001b[0;34m)\u001b[0m\u001b[0;34m:\u001b[0m\u001b[0;34m\u001b[0m\u001b[0;34m\u001b[0m\u001b[0m\n\u001b[1;32m    117\u001b[0m         \u001b[0mfunc\u001b[0m\u001b[0;34m,\u001b[0m \u001b[0margs\u001b[0m \u001b[0;34m=\u001b[0m \u001b[0marg\u001b[0m\u001b[0;34m[\u001b[0m\u001b[0;36m0\u001b[0m\u001b[0;34m]\u001b[0m\u001b[0;34m,\u001b[0m \u001b[0marg\u001b[0m\u001b[0;34m[\u001b[0m\u001b[0;36m1\u001b[0m\u001b[0;34m:\u001b[0m\u001b[0;34m]\u001b[0m\u001b[0;34m\u001b[0m\u001b[0;34m\u001b[0m\u001b[0m\n\u001b[0;32m--> 118\u001b[0;31m         \u001b[0margs2\u001b[0m \u001b[0;34m=\u001b[0m \u001b[0;34m[\u001b[0m\u001b[0m_execute_task\u001b[0m\u001b[0;34m(\u001b[0m\u001b[0ma\u001b[0m\u001b[0;34m,\u001b[0m \u001b[0mcache\u001b[0m\u001b[0;34m)\u001b[0m \u001b[0;32mfor\u001b[0m \u001b[0ma\u001b[0m \u001b[0;32min\u001b[0m \u001b[0margs\u001b[0m\u001b[0;34m]\u001b[0m\u001b[0;34m\u001b[0m\u001b[0;34m\u001b[0m\u001b[0m\n\u001b[0m\u001b[1;32m    119\u001b[0m         \u001b[0;32mreturn\u001b[0m \u001b[0mfunc\u001b[0m\u001b[0;34m(\u001b[0m\u001b[0;34m*\u001b[0m\u001b[0margs2\u001b[0m\u001b[0;34m)\u001b[0m\u001b[0;34m\u001b[0m\u001b[0;34m\u001b[0m\u001b[0m\n\u001b[1;32m    120\u001b[0m     \u001b[0;32melif\u001b[0m \u001b[0;32mnot\u001b[0m \u001b[0mishashable\u001b[0m\u001b[0;34m(\u001b[0m\u001b[0marg\u001b[0m\u001b[0;34m)\u001b[0m\u001b[0;34m:\u001b[0m\u001b[0;34m\u001b[0m\u001b[0;34m\u001b[0m\u001b[0m\n",
      "\u001b[0;32m~/Documents/CODING/daskk/dask/dask/core.py\u001b[0m in \u001b[0;36m<listcomp>\u001b[0;34m(.0)\u001b[0m\n\u001b[1;32m    116\u001b[0m     \u001b[0;32melif\u001b[0m \u001b[0mistask\u001b[0m\u001b[0;34m(\u001b[0m\u001b[0marg\u001b[0m\u001b[0;34m)\u001b[0m\u001b[0;34m:\u001b[0m\u001b[0;34m\u001b[0m\u001b[0;34m\u001b[0m\u001b[0m\n\u001b[1;32m    117\u001b[0m         \u001b[0mfunc\u001b[0m\u001b[0;34m,\u001b[0m \u001b[0margs\u001b[0m \u001b[0;34m=\u001b[0m \u001b[0marg\u001b[0m\u001b[0;34m[\u001b[0m\u001b[0;36m0\u001b[0m\u001b[0;34m]\u001b[0m\u001b[0;34m,\u001b[0m \u001b[0marg\u001b[0m\u001b[0;34m[\u001b[0m\u001b[0;36m1\u001b[0m\u001b[0;34m:\u001b[0m\u001b[0;34m]\u001b[0m\u001b[0;34m\u001b[0m\u001b[0;34m\u001b[0m\u001b[0m\n\u001b[0;32m--> 118\u001b[0;31m         \u001b[0margs2\u001b[0m \u001b[0;34m=\u001b[0m \u001b[0;34m[\u001b[0m\u001b[0m_execute_task\u001b[0m\u001b[0;34m(\u001b[0m\u001b[0ma\u001b[0m\u001b[0;34m,\u001b[0m \u001b[0mcache\u001b[0m\u001b[0;34m)\u001b[0m \u001b[0;32mfor\u001b[0m \u001b[0ma\u001b[0m \u001b[0;32min\u001b[0m \u001b[0margs\u001b[0m\u001b[0;34m]\u001b[0m\u001b[0;34m\u001b[0m\u001b[0;34m\u001b[0m\u001b[0m\n\u001b[0m\u001b[1;32m    119\u001b[0m         \u001b[0;32mreturn\u001b[0m \u001b[0mfunc\u001b[0m\u001b[0;34m(\u001b[0m\u001b[0;34m*\u001b[0m\u001b[0margs2\u001b[0m\u001b[0;34m)\u001b[0m\u001b[0;34m\u001b[0m\u001b[0;34m\u001b[0m\u001b[0m\n\u001b[1;32m    120\u001b[0m     \u001b[0;32melif\u001b[0m \u001b[0;32mnot\u001b[0m \u001b[0mishashable\u001b[0m\u001b[0;34m(\u001b[0m\u001b[0marg\u001b[0m\u001b[0;34m)\u001b[0m\u001b[0;34m:\u001b[0m\u001b[0;34m\u001b[0m\u001b[0;34m\u001b[0m\u001b[0m\n",
      "\u001b[0;32m~/Documents/CODING/daskk/dask/dask/core.py\u001b[0m in \u001b[0;36m_execute_task\u001b[0;34m(arg, cache, dsk)\u001b[0m\n\u001b[1;32m    117\u001b[0m         \u001b[0mfunc\u001b[0m\u001b[0;34m,\u001b[0m \u001b[0margs\u001b[0m \u001b[0;34m=\u001b[0m \u001b[0marg\u001b[0m\u001b[0;34m[\u001b[0m\u001b[0;36m0\u001b[0m\u001b[0;34m]\u001b[0m\u001b[0;34m,\u001b[0m \u001b[0marg\u001b[0m\u001b[0;34m[\u001b[0m\u001b[0;36m1\u001b[0m\u001b[0;34m:\u001b[0m\u001b[0;34m]\u001b[0m\u001b[0;34m\u001b[0m\u001b[0;34m\u001b[0m\u001b[0m\n\u001b[1;32m    118\u001b[0m         \u001b[0margs2\u001b[0m \u001b[0;34m=\u001b[0m \u001b[0;34m[\u001b[0m\u001b[0m_execute_task\u001b[0m\u001b[0;34m(\u001b[0m\u001b[0ma\u001b[0m\u001b[0;34m,\u001b[0m \u001b[0mcache\u001b[0m\u001b[0;34m)\u001b[0m \u001b[0;32mfor\u001b[0m \u001b[0ma\u001b[0m \u001b[0;32min\u001b[0m \u001b[0margs\u001b[0m\u001b[0;34m]\u001b[0m\u001b[0;34m\u001b[0m\u001b[0;34m\u001b[0m\u001b[0m\n\u001b[0;32m--> 119\u001b[0;31m         \u001b[0;32mreturn\u001b[0m \u001b[0mfunc\u001b[0m\u001b[0;34m(\u001b[0m\u001b[0;34m*\u001b[0m\u001b[0margs2\u001b[0m\u001b[0;34m)\u001b[0m\u001b[0;34m\u001b[0m\u001b[0;34m\u001b[0m\u001b[0m\n\u001b[0m\u001b[1;32m    120\u001b[0m     \u001b[0;32melif\u001b[0m \u001b[0;32mnot\u001b[0m \u001b[0mishashable\u001b[0m\u001b[0;34m(\u001b[0m\u001b[0marg\u001b[0m\u001b[0;34m)\u001b[0m\u001b[0;34m:\u001b[0m\u001b[0;34m\u001b[0m\u001b[0;34m\u001b[0m\u001b[0m\n\u001b[1;32m    121\u001b[0m         \u001b[0;32mreturn\u001b[0m \u001b[0marg\u001b[0m\u001b[0;34m\u001b[0m\u001b[0;34m\u001b[0m\u001b[0m\n",
      "\u001b[0;32m~/Documents/CODING/daskk/dask/dask/utils.py\u001b[0m in \u001b[0;36mapply\u001b[0;34m(func, args, kwargs)\u001b[0m\n\u001b[1;32m     27\u001b[0m \u001b[0;32mdef\u001b[0m \u001b[0mapply\u001b[0m\u001b[0;34m(\u001b[0m\u001b[0mfunc\u001b[0m\u001b[0;34m,\u001b[0m \u001b[0margs\u001b[0m\u001b[0;34m,\u001b[0m \u001b[0mkwargs\u001b[0m\u001b[0;34m=\u001b[0m\u001b[0;32mNone\u001b[0m\u001b[0;34m)\u001b[0m\u001b[0;34m:\u001b[0m\u001b[0;34m\u001b[0m\u001b[0;34m\u001b[0m\u001b[0m\n\u001b[1;32m     28\u001b[0m     \u001b[0;32mif\u001b[0m \u001b[0mkwargs\u001b[0m\u001b[0;34m:\u001b[0m\u001b[0;34m\u001b[0m\u001b[0;34m\u001b[0m\u001b[0m\n\u001b[0;32m---> 29\u001b[0;31m         \u001b[0;32mreturn\u001b[0m \u001b[0mfunc\u001b[0m\u001b[0;34m(\u001b[0m\u001b[0;34m*\u001b[0m\u001b[0margs\u001b[0m\u001b[0;34m,\u001b[0m \u001b[0;34m**\u001b[0m\u001b[0mkwargs\u001b[0m\u001b[0;34m)\u001b[0m\u001b[0;34m\u001b[0m\u001b[0;34m\u001b[0m\u001b[0m\n\u001b[0m\u001b[1;32m     30\u001b[0m     \u001b[0;32melse\u001b[0m\u001b[0;34m:\u001b[0m\u001b[0;34m\u001b[0m\u001b[0;34m\u001b[0m\u001b[0m\n\u001b[1;32m     31\u001b[0m         \u001b[0;32mreturn\u001b[0m \u001b[0mfunc\u001b[0m\u001b[0;34m(\u001b[0m\u001b[0;34m*\u001b[0m\u001b[0margs\u001b[0m\u001b[0;34m)\u001b[0m\u001b[0;34m\u001b[0m\u001b[0;34m\u001b[0m\u001b[0m\n",
      "\u001b[0;32m~/Documents/CODING/daskk/dask/dask/dataframe/io/csv.py\u001b[0m in \u001b[0;36mpandas_read_text\u001b[0;34m(reader, b, header, kwargs, dtypes, columns, write_header, enforce, path)\u001b[0m\n\u001b[1;32m     68\u001b[0m     \u001b[0mdf\u001b[0m \u001b[0;34m=\u001b[0m \u001b[0mreader\u001b[0m\u001b[0;34m(\u001b[0m\u001b[0mbio\u001b[0m\u001b[0;34m,\u001b[0m \u001b[0;34m**\u001b[0m\u001b[0mkwargs\u001b[0m\u001b[0;34m)\u001b[0m\u001b[0;34m\u001b[0m\u001b[0;34m\u001b[0m\u001b[0m\n\u001b[1;32m     69\u001b[0m     \u001b[0;32mif\u001b[0m \u001b[0mdtypes\u001b[0m\u001b[0;34m:\u001b[0m\u001b[0;34m\u001b[0m\u001b[0;34m\u001b[0m\u001b[0m\n\u001b[0;32m---> 70\u001b[0;31m         \u001b[0mcoerce_dtypes\u001b[0m\u001b[0;34m(\u001b[0m\u001b[0mdf\u001b[0m\u001b[0;34m,\u001b[0m \u001b[0mdtypes\u001b[0m\u001b[0;34m)\u001b[0m\u001b[0;34m\u001b[0m\u001b[0;34m\u001b[0m\u001b[0m\n\u001b[0m\u001b[1;32m     71\u001b[0m \u001b[0;34m\u001b[0m\u001b[0m\n\u001b[1;32m     72\u001b[0m     \u001b[0;32mif\u001b[0m \u001b[0menforce\u001b[0m \u001b[0;32mand\u001b[0m \u001b[0mcolumns\u001b[0m \u001b[0;32mand\u001b[0m \u001b[0;34m(\u001b[0m\u001b[0mlist\u001b[0m\u001b[0;34m(\u001b[0m\u001b[0mdf\u001b[0m\u001b[0;34m.\u001b[0m\u001b[0mcolumns\u001b[0m\u001b[0;34m)\u001b[0m \u001b[0;34m!=\u001b[0m \u001b[0mlist\u001b[0m\u001b[0;34m(\u001b[0m\u001b[0mcolumns\u001b[0m\u001b[0;34m)\u001b[0m\u001b[0;34m)\u001b[0m\u001b[0;34m:\u001b[0m\u001b[0;34m\u001b[0m\u001b[0;34m\u001b[0m\u001b[0m\n",
      "\u001b[0;32m~/Documents/CODING/daskk/dask/dask/dataframe/io/csv.py\u001b[0m in \u001b[0;36mcoerce_dtypes\u001b[0;34m(df, dtypes)\u001b[0m\n\u001b[1;32m    172\u001b[0m             \u001b[0mrule\u001b[0m\u001b[0;34m.\u001b[0m\u001b[0mjoin\u001b[0m\u001b[0;34m(\u001b[0m\u001b[0mfilter\u001b[0m\u001b[0;34m(\u001b[0m\u001b[0;32mNone\u001b[0m\u001b[0;34m,\u001b[0m \u001b[0;34m[\u001b[0m\u001b[0mdtype_msg\u001b[0m\u001b[0;34m,\u001b[0m \u001b[0mdate_msg\u001b[0m\u001b[0;34m]\u001b[0m\u001b[0;34m)\u001b[0m\u001b[0;34m)\u001b[0m\u001b[0;34m\u001b[0m\u001b[0;34m\u001b[0m\u001b[0m\n\u001b[1;32m    173\u001b[0m         )\n\u001b[0;32m--> 174\u001b[0;31m         \u001b[0;32mraise\u001b[0m \u001b[0mValueError\u001b[0m\u001b[0;34m(\u001b[0m\u001b[0mmsg\u001b[0m\u001b[0;34m)\u001b[0m\u001b[0;34m\u001b[0m\u001b[0;34m\u001b[0m\u001b[0m\n\u001b[0m\u001b[1;32m    175\u001b[0m \u001b[0;34m\u001b[0m\u001b[0m\n\u001b[1;32m    176\u001b[0m \u001b[0;34m\u001b[0m\u001b[0m\n",
      "\u001b[0;31mValueError\u001b[0m: Mismatched dtypes found in `pd.read_csv`/`pd.read_table`.\n\n+-------------------+--------+----------+\n| Column            | Found  | Expected |\n+-------------------+--------+----------+\n| ACK Flag Cnt      | object | int64    |\n| Active Max        | object | int64    |\n| Active Mean       | object | float64  |\n| Active Min        | object | int64    |\n| Active Std        | object | float64  |\n| Bwd Blk Rate Avg  | object | int64    |\n| Bwd Byts/b Avg    | object | int64    |\n| Bwd Header Len    | object | int64    |\n| Bwd IAT Max       | object | int64    |\n| Bwd IAT Mean      | object | float64  |\n| Bwd IAT Min       | object | int64    |\n| Bwd IAT Std       | object | float64  |\n| Bwd IAT Tot       | object | int64    |\n| Bwd PSH Flags     | object | int64    |\n| Bwd Pkt Len Max   | object | int64    |\n| Bwd Pkt Len Mean  | object | float64  |\n| Bwd Pkt Len Min   | object | int64    |\n| Bwd Pkt Len Std   | object | float64  |\n| Bwd Pkts/b Avg    | object | int64    |\n| Bwd Pkts/s        | object | float64  |\n| Bwd Seg Size Avg  | object | float64  |\n| Bwd URG Flags     | object | int64    |\n| CWE Flag Count    | object | int64    |\n| Down/Up Ratio     | object | int64    |\n| Dst Port          | object | int64    |\n| ECE Flag Cnt      | object | int64    |\n| FIN Flag Cnt      | object | int64    |\n| Flow Duration     | object | int64    |\n| Flow IAT Max      | object | int64    |\n| Flow IAT Mean     | object | float64  |\n| Flow IAT Min      | object | int64    |\n| Flow IAT Std      | object | float64  |\n| Fwd Act Data Pkts | object | int64    |\n| Fwd Blk Rate Avg  | object | int64    |\n| Fwd Byts/b Avg    | object | int64    |\n| Fwd Header Len    | object | int64    |\n| Fwd IAT Max       | object | int64    |\n| Fwd IAT Mean      | object | float64  |\n| Fwd IAT Min       | object | int64    |\n| Fwd IAT Std       | object | float64  |\n| Fwd IAT Tot       | object | int64    |\n| Fwd PSH Flags     | object | int64    |\n| Fwd Pkt Len Max   | object | int64    |\n| Fwd Pkt Len Mean  | object | float64  |\n| Fwd Pkt Len Min   | object | int64    |\n| Fwd Pkt Len Std   | object | float64  |\n| Fwd Pkts/b Avg    | object | int64    |\n| Fwd Pkts/s        | object | float64  |\n| Fwd Seg Size Avg  | object | float64  |\n| Fwd Seg Size Min  | object | int64    |\n| Fwd URG Flags     | object | int64    |\n| Idle Max          | object | int64    |\n| Idle Mean         | object | float64  |\n| Idle Min          | object | int64    |\n| Idle Std          | object | float64  |\n| Init Bwd Win Byts | object | int64    |\n| Init Fwd Win Byts | object | int64    |\n| PSH Flag Cnt      | object | int64    |\n| Pkt Len Max       | object | int64    |\n| Pkt Len Mean      | object | float64  |\n| Pkt Len Min       | object | int64    |\n| Pkt Len Std       | object | float64  |\n| Pkt Len Var       | object | float64  |\n| Pkt Size Avg      | object | float64  |\n| Protocol          | object | int64    |\n| RST Flag Cnt      | object | int64    |\n| SYN Flag Cnt      | object | int64    |\n| Subflow Bwd Byts  | object | int64    |\n| Subflow Bwd Pkts  | object | int64    |\n| Subflow Fwd Byts  | object | int64    |\n| Subflow Fwd Pkts  | object | int64    |\n| Tot Bwd Pkts      | object | int64    |\n| Tot Fwd Pkts      | object | int64    |\n| TotLen Bwd Pkts   | object | int64    |\n| TotLen Fwd Pkts   | object | int64    |\n| URG Flag Cnt      | object | int64    |\n+-------------------+--------+----------+\n\nThe following columns also raised exceptions on conversion:\n\n- ACK Flag Cnt\n  ValueError(\"invalid literal for int() with base 10: 'ACK Flag Cnt'\")\n- Active Max\n  ValueError(\"invalid literal for int() with base 10: 'Active Max'\")\n- Active Mean\n  ValueError(\"could not convert string to float: 'Active Mean'\")\n- Active Min\n  ValueError(\"invalid literal for int() with base 10: 'Active Min'\")\n- Active Std\n  ValueError(\"could not convert string to float: 'Active Std'\")\n- Bwd Blk Rate Avg\n  ValueError(\"invalid literal for int() with base 10: 'Bwd Blk Rate Avg'\")\n- Bwd Byts/b Avg\n  ValueError(\"invalid literal for int() with base 10: 'Bwd Byts/b Avg'\")\n- Bwd Header Len\n  ValueError(\"invalid literal for int() with base 10: 'Bwd Header Len'\")\n- Bwd IAT Max\n  ValueError(\"invalid literal for int() with base 10: 'Bwd IAT Max'\")\n- Bwd IAT Mean\n  ValueError(\"could not convert string to float: 'Bwd IAT Mean'\")\n- Bwd IAT Min\n  ValueError(\"invalid literal for int() with base 10: 'Bwd IAT Min'\")\n- Bwd IAT Std\n  ValueError(\"could not convert string to float: 'Bwd IAT Std'\")\n- Bwd IAT Tot\n  ValueError(\"invalid literal for int() with base 10: 'Bwd IAT Tot'\")\n- Bwd PSH Flags\n  ValueError(\"invalid literal for int() with base 10: 'Bwd PSH Flags'\")\n- Bwd Pkt Len Max\n  ValueError(\"invalid literal for int() with base 10: 'Bwd Pkt Len Max'\")\n- Bwd Pkt Len Mean\n  ValueError(\"could not convert string to float: 'Bwd Pkt Len Mean'\")\n- Bwd Pkt Len Min\n  ValueError(\"invalid literal for int() with base 10: 'Bwd Pkt Len Min'\")\n- Bwd Pkt Len Std\n  ValueError(\"could not convert string to float: 'Bwd Pkt Len Std'\")\n- Bwd Pkts/b Avg\n  ValueError(\"invalid literal for int() with base 10: 'Bwd Pkts/b Avg'\")\n- Bwd Pkts/s\n  ValueError(\"could not convert string to float: 'Bwd Pkts/s'\")\n- Bwd Seg Size Avg\n  ValueError(\"could not convert string to float: 'Bwd Seg Size Avg'\")\n- Bwd URG Flags\n  ValueError(\"invalid literal for int() with base 10: 'Bwd URG Flags'\")\n- CWE Flag Count\n  ValueError(\"invalid literal for int() with base 10: 'CWE Flag Count'\")\n- Down/Up Ratio\n  ValueError(\"invalid literal for int() with base 10: 'Down/Up Ratio'\")\n- Dst Port\n  ValueError(\"invalid literal for int() with base 10: 'Dst Port'\")\n- ECE Flag Cnt\n  ValueError(\"invalid literal for int() with base 10: 'ECE Flag Cnt'\")\n- FIN Flag Cnt\n  ValueError(\"invalid literal for int() with base 10: 'FIN Flag Cnt'\")\n- Flow Duration\n  ValueError(\"invalid literal for int() with base 10: 'Flow Duration'\")\n- Flow IAT Max\n  ValueError(\"invalid literal for int() with base 10: 'Flow IAT Max'\")\n- Flow IAT Mean\n  ValueError(\"could not convert string to float: 'Flow IAT Mean'\")\n- Flow IAT Min\n  ValueError(\"invalid literal for int() with base 10: 'Flow IAT Min'\")\n- Flow IAT Std\n  ValueError(\"could not convert string to float: 'Flow IAT Std'\")\n- Fwd Act Data Pkts\n  ValueError(\"invalid literal for int() with base 10: 'Fwd Act Data Pkts'\")\n- Fwd Blk Rate Avg\n  ValueError(\"invalid literal for int() with base 10: 'Fwd Blk Rate Avg'\")\n- Fwd Byts/b Avg\n  ValueError(\"invalid literal for int() with base 10: 'Fwd Byts/b Avg'\")\n- Fwd Header Len\n  ValueError(\"invalid literal for int() with base 10: 'Fwd Header Len'\")\n- Fwd IAT Max\n  ValueError(\"invalid literal for int() with base 10: 'Fwd IAT Max'\")\n- Fwd IAT Mean\n  ValueError(\"could not convert string to float: 'Fwd IAT Mean'\")\n- Fwd IAT Min\n  ValueError(\"invalid literal for int() with base 10: 'Fwd IAT Min'\")\n- Fwd IAT Std\n  ValueError(\"could not convert string to float: 'Fwd IAT Std'\")\n- Fwd IAT Tot\n  ValueError(\"invalid literal for int() with base 10: 'Fwd IAT Tot'\")\n- Fwd PSH Flags\n  ValueError(\"invalid literal for int() with base 10: 'Fwd PSH Flags'\")\n- Fwd Pkt Len Max\n  ValueError(\"invalid literal for int() with base 10: 'Fwd Pkt Len Max'\")\n- Fwd Pkt Len Mean\n  ValueError(\"could not convert string to float: 'Fwd Pkt Len Mean'\")\n- Fwd Pkt Len Min\n  ValueError(\"invalid literal for int() with base 10: 'Fwd Pkt Len Min'\")\n- Fwd Pkt Len Std\n  ValueError(\"could not convert string to float: 'Fwd Pkt Len Std'\")\n- Fwd Pkts/b Avg\n  ValueError(\"invalid literal for int() with base 10: 'Fwd Pkts/b Avg'\")\n- Fwd Pkts/s\n  ValueError(\"could not convert string to float: 'Fwd Pkts/s'\")\n- Fwd Seg Size Avg\n  ValueError(\"could not convert string to float: 'Fwd Seg Size Avg'\")\n- Fwd Seg Size Min\n  ValueError(\"invalid literal for int() with base 10: 'Fwd Seg Size Min'\")\n- Fwd URG Flags\n  ValueError(\"invalid literal for int() with base 10: 'Fwd URG Flags'\")\n- Idle Max\n  ValueError(\"invalid literal for int() with base 10: 'Idle Max'\")\n- Idle Mean\n  ValueError(\"could not convert string to float: 'Idle Mean'\")\n- Idle Min\n  ValueError(\"invalid literal for int() with base 10: 'Idle Min'\")\n- Idle Std\n  ValueError(\"could not convert string to float: 'Idle Std'\")\n- Init Bwd Win Byts\n  ValueError(\"invalid literal for int() with base 10: 'Init Bwd Win Byts'\")\n- Init Fwd Win Byts\n  ValueError(\"invalid literal for int() with base 10: 'Init Fwd Win Byts'\")\n- PSH Flag Cnt\n  ValueError(\"invalid literal for int() with base 10: 'PSH Flag Cnt'\")\n- Pkt Len Max\n  ValueError(\"invalid literal for int() with base 10: 'Pkt Len Max'\")\n- Pkt Len Mean\n  ValueError(\"could not convert string to float: 'Pkt Len Mean'\")\n- Pkt Len Min\n  ValueError(\"invalid literal for int() with base 10: 'Pkt Len Min'\")\n- Pkt Len Std\n  ValueError(\"could not convert string to float: 'Pkt Len Std'\")\n- Pkt Len Var\n  ValueError(\"could not convert string to float: 'Pkt Len Var'\")\n- Pkt Size Avg\n  ValueError(\"could not convert string to float: 'Pkt Size Avg'\")\n- Protocol\n  ValueError(\"invalid literal for int() with base 10: 'Protocol'\")\n- RST Flag Cnt\n  ValueError(\"invalid literal for int() with base 10: 'RST Flag Cnt'\")\n- SYN Flag Cnt\n  ValueError(\"invalid literal for int() with base 10: 'SYN Flag Cnt'\")\n- Subflow Bwd Byts\n  ValueError(\"invalid literal for int() with base 10: 'Subflow Bwd Byts'\")\n- Subflow Bwd Pkts\n  ValueError(\"invalid literal for int() with base 10: 'Subflow Bwd Pkts'\")\n- Subflow Fwd Byts\n  ValueError(\"invalid literal for int() with base 10: 'Subflow Fwd Byts'\")\n- Subflow Fwd Pkts\n  ValueError(\"invalid literal for int() with base 10: 'Subflow Fwd Pkts'\")\n- Tot Bwd Pkts\n  ValueError(\"invalid literal for int() with base 10: 'Tot Bwd Pkts'\")\n- Tot Fwd Pkts\n  ValueError(\"invalid literal for int() with base 10: 'Tot Fwd Pkts'\")\n- TotLen Bwd Pkts\n  ValueError(\"invalid literal for int() with base 10: 'TotLen Bwd Pkts'\")\n- TotLen Fwd Pkts\n  ValueError(\"invalid literal for int() with base 10: 'TotLen Fwd Pkts'\")\n- URG Flag Cnt\n  ValueError(\"invalid literal for int() with base 10: 'URG Flag Cnt'\")\n\nUsually this is due to dask's dtype inference failing, and\n*may* be fixed by specifying dtypes manually by adding:\n\ndtype={'ACK Flag Cnt': 'object',\n       'Active Max': 'object',\n       'Active Mean': 'object',\n       'Active Min': 'object',\n       'Active Std': 'object',\n       'Bwd Blk Rate Avg': 'object',\n       'Bwd Byts/b Avg': 'object',\n       'Bwd Header Len': 'object',\n       'Bwd IAT Max': 'object',\n       'Bwd IAT Mean': 'object',\n       'Bwd IAT Min': 'object',\n       'Bwd IAT Std': 'object',\n       'Bwd IAT Tot': 'object',\n       'Bwd PSH Flags': 'object',\n       'Bwd Pkt Len Max': 'object',\n       'Bwd Pkt Len Mean': 'object',\n       'Bwd Pkt Len Min': 'object',\n       'Bwd Pkt Len Std': 'object',\n       'Bwd Pkts/b Avg': 'object',\n       'Bwd Pkts/s': 'object',\n       'Bwd Seg Size Avg': 'object',\n       'Bwd URG Flags': 'object',\n       'CWE Flag Count': 'object',\n       'Down/Up Ratio': 'object',\n       'Dst Port': 'object',\n       'ECE Flag Cnt': 'object',\n       'FIN Flag Cnt': 'object',\n       'Flow Duration': 'object',\n       'Flow IAT Max': 'object',\n       'Flow IAT Mean': 'object',\n       'Flow IAT Min': 'object',\n       'Flow IAT Std': 'object',\n       'Fwd Act Data Pkts': 'object',\n       'Fwd Blk Rate Avg': 'object',\n       'Fwd Byts/b Avg': 'object',\n       'Fwd Header Len': 'object',\n       'Fwd IAT Max': 'object',\n       'Fwd IAT Mean': 'object',\n       'Fwd IAT Min': 'object',\n       'Fwd IAT Std': 'object',\n       'Fwd IAT Tot': 'object',\n       'Fwd PSH Flags': 'object',\n       'Fwd Pkt Len Max': 'object',\n       'Fwd Pkt Len Mean': 'object',\n       'Fwd Pkt Len Min': 'object',\n       'Fwd Pkt Len Std': 'object',\n       'Fwd Pkts/b Avg': 'object',\n       'Fwd Pkts/s': 'object',\n       'Fwd Seg Size Avg': 'object',\n       'Fwd Seg Size Min': 'object',\n       'Fwd URG Flags': 'object',\n       'Idle Max': 'object',\n       'Idle Mean': 'object',\n       'Idle Min': 'object',\n       'Idle Std': 'object',\n       'Init Bwd Win Byts': 'object',\n       'Init Fwd Win Byts': 'object',\n       'PSH Flag Cnt': 'object',\n       'Pkt Len Max': 'object',\n       'Pkt Len Mean': 'object',\n       'Pkt Len Min': 'object',\n       'Pkt Len Std': 'object',\n       'Pkt Len Var': 'object',\n       'Pkt Size Avg': 'object',\n       'Protocol': 'object',\n       'RST Flag Cnt': 'object',\n       'SYN Flag Cnt': 'object',\n       'Subflow Bwd Byts': 'object',\n       'Subflow Bwd Pkts': 'object',\n       'Subflow Fwd Byts': 'object',\n       'Subflow Fwd Pkts': 'object',\n       'Tot Bwd Pkts': 'object',\n       'Tot Fwd Pkts': 'object',\n       'TotLen Bwd Pkts': 'object',\n       'TotLen Fwd Pkts': 'object',\n       'URG Flag Cnt': 'object'}\n\nto the call to `read_csv`/`read_table`."
     ]
    }
   ],
   "source": [
    "df2 = c_df[X.ack_fl_cnt !='ACK Flag Cnt']"
   ]
  },
  {
   "cell_type": "code",
   "execution_count": 41,
   "metadata": {},
   "outputs": [
    {
     "name": "stdout",
     "output_type": "stream",
     "text": [
      "(16173222, 79)\n",
      "(16173222,)\n"
     ]
    }
   ],
   "source": [
    "Y = df2.loc[:,'Label']\n",
    "X = df2.drop(columns=['Label'])\n",
    "print(X.shape)\n",
    "print(Y.shape)"
   ]
  },
  {
   "cell_type": "code",
   "execution_count": 17,
   "metadata": {},
   "outputs": [
    {
     "name": "stderr",
     "output_type": "stream",
     "text": [
      "Using TensorFlow backend.\n"
     ]
    }
   ],
   "source": [
    "from imblearn.over_sampling import SMOTE"
   ]
  },
  {
   "cell_type": "code",
   "execution_count": 1,
   "metadata": {},
   "outputs": [
    {
     "ename": "NameError",
     "evalue": "name 'df2' is not defined",
     "output_type": "error",
     "traceback": [
      "\u001b[0;31m---------------------------------------------------------------------------\u001b[0m",
      "\u001b[0;31mNameError\u001b[0m                                 Traceback (most recent call last)",
      "\u001b[0;32m<ipython-input-1-4790437ebfac>\u001b[0m in \u001b[0;36m<module>\u001b[0;34m\u001b[0m\n\u001b[0;32m----> 1\u001b[0;31m \u001b[0mdf2\u001b[0m\u001b[0;34m.\u001b[0m\u001b[0mshape\u001b[0m\u001b[0;34m\u001b[0m\u001b[0;34m\u001b[0m\u001b[0m\n\u001b[0m",
      "\u001b[0;31mNameError\u001b[0m: name 'df2' is not defined"
     ]
    }
   ],
   "source": [
    "df2.shape"
   ]
  },
  {
   "cell_type": "code",
   "execution_count": null,
   "metadata": {},
   "outputs": [],
   "source": [
    "df2 = df2.drop(columns=['Timestamp'])\n",
    "df2 = df2.dropna()"
   ]
  },
  {
   "cell_type": "code",
   "execution_count": 37,
   "metadata": {},
   "outputs": [
    {
     "ename": "NameError",
     "evalue": "name 'X_rus' is not defined",
     "output_type": "error",
     "traceback": [
      "\u001b[0;31m---------------------------------------------------------------------------\u001b[0m",
      "\u001b[0;31mNameError\u001b[0m                                 Traceback (most recent call last)",
      "\u001b[0;32m<ipython-input-37-8c1b9d565ab1>\u001b[0m in \u001b[0;36m<module>\u001b[0;34m\u001b[0m\n\u001b[1;32m      1\u001b[0m \u001b[0msm\u001b[0m \u001b[0;34m=\u001b[0m \u001b[0mSMOTE\u001b[0m\u001b[0;34m(\u001b[0m\u001b[0;34m'minority'\u001b[0m\u001b[0;34m)\u001b[0m\u001b[0;34m\u001b[0m\u001b[0;34m\u001b[0m\u001b[0m\n\u001b[1;32m      2\u001b[0m \u001b[0mX_rs\u001b[0m\u001b[0;34m,\u001b[0m \u001b[0mY_rs\u001b[0m \u001b[0;34m=\u001b[0m \u001b[0msm\u001b[0m\u001b[0;34m.\u001b[0m\u001b[0mfit_sample\u001b[0m\u001b[0;34m(\u001b[0m\u001b[0mX\u001b[0m\u001b[0;34m,\u001b[0m \u001b[0mY\u001b[0m\u001b[0;34m)\u001b[0m\u001b[0;34m\u001b[0m\u001b[0;34m\u001b[0m\u001b[0m\n\u001b[0;32m----> 3\u001b[0;31m \u001b[0mprint\u001b[0m\u001b[0;34m(\u001b[0m\u001b[0mX_rus\u001b[0m\u001b[0;34m.\u001b[0m\u001b[0mshape\u001b[0m\u001b[0;34m)\u001b[0m\u001b[0;34m\u001b[0m\u001b[0;34m\u001b[0m\u001b[0m\n\u001b[0m\u001b[1;32m      4\u001b[0m \u001b[0mprint\u001b[0m\u001b[0;34m(\u001b[0m\u001b[0mY_rus\u001b[0m\u001b[0;34m.\u001b[0m\u001b[0mshape\u001b[0m\u001b[0;34m)\u001b[0m\u001b[0;34m\u001b[0m\u001b[0;34m\u001b[0m\u001b[0m\n",
      "\u001b[0;31mNameError\u001b[0m: name 'X_rus' is not defined"
     ]
    }
   ],
   "source": [
    "sm = SMOTE('minority')\n",
    "X_rs, Y_rs = sm.fit_sample(X, Y)\n"
   ]
  },
  {
   "cell_type": "code",
   "execution_count": 38,
   "metadata": {},
   "outputs": [
    {
     "name": "stdout",
     "output_type": "stream",
     "text": [
      "(7477003, 35)\n",
      "(7477003,)\n"
     ]
    }
   ],
   "source": [
    "print(X_rs.shape)\n",
    "print(Y_rs.shape)"
   ]
  },
  {
   "cell_type": "code",
   "execution_count": 39,
   "metadata": {},
   "outputs": [
    {
     "data": {
      "text/plain": [
       "Benign                      2485853\n",
       "SQL Injection               2485853\n",
       "DDOS attack-HOIC             686012\n",
       "DDoS attacks-LOIC-HTTP       563740\n",
       "DoS attacks-Hulk             458608\n",
       "Bot                          230290\n",
       "FTP-BruteForce               190304\n",
       "SSH-Bruteforce               184424\n",
       "DoS attacks-SlowHTTPTest     136336\n",
       "DoS attacks-GoldenEye         39282\n",
       "DoS attacks-Slowloris          9831\n",
       "Infilteration                  4227\n",
       "DDOS attack-LOIC-UDP           1730\n",
       "Brute Force -Web                362\n",
       "Brute Force -XSS                151\n",
       "Name: Label, dtype: int64"
      ]
     },
     "execution_count": 39,
     "metadata": {},
     "output_type": "execute_result"
    }
   ],
   "source": [
    "Y_rs.value_counts()"
   ]
  },
  {
   "cell_type": "code",
   "execution_count": 40,
   "metadata": {},
   "outputs": [
    {
     "data": {
      "text/plain": [
       "Benign                      2485853\n",
       "DDOS attack-HOIC             686012\n",
       "DDoS attacks-LOIC-HTTP       563740\n",
       "DoS attacks-Hulk             458608\n",
       "Bot                          230290\n",
       "FTP-BruteForce               190304\n",
       "SSH-Bruteforce               184424\n",
       "DoS attacks-SlowHTTPTest     136336\n",
       "DoS attacks-GoldenEye         39282\n",
       "DoS attacks-Slowloris          9831\n",
       "Infilteration                  4227\n",
       "DDOS attack-LOIC-UDP           1730\n",
       "Brute Force -Web                362\n",
       "Brute Force -XSS                151\n",
       "SQL Injection                    51\n",
       "Name: Label, dtype: int64"
      ]
     },
     "execution_count": 40,
     "metadata": {},
     "output_type": "execute_result"
    }
   ],
   "source": [
    "Y.value_counts()"
   ]
  },
  {
   "cell_type": "code",
   "execution_count": 41,
   "metadata": {},
   "outputs": [
    {
     "name": "stderr",
     "output_type": "stream",
     "text": [
      "/Library/Frameworks/Python.framework/Versions/3.7/lib/python3.7/site-packages/ipykernel_launcher.py:2: FutureWarning: The signature of `Series.to_csv` was aligned to that of `DataFrame.to_csv`, and argument 'header' will change its default value from False to True: please pass an explicit value to suppress this warning.\n",
      "  \n"
     ]
    }
   ],
   "source": [
    "X_rs.to_csv('X_resampled.csv', index=False, encoding='utf-8-sig')\n",
    "Y_rs.to_csv( \"Y_resampled.csv\", index=False, encoding='utf-8-sig')"
   ]
  },
  {
   "cell_type": "code",
   "execution_count": 7,
   "metadata": {},
   "outputs": [],
   "source": [
    "string_col = 'Dst Port, Flow Duration, Tot Fwd Pkts, TotLen Fwd Pkts, Fwd Pkt Len Max, Fwd Pkt Len Min, Fwd Pkt Len Mean, Fwd Pkt Len Std, Bwd Pkt Len Max, Flow Byts/s, Flow Pkts/s, Flow IAT Mean, Flow IAT Std, Flow IAT Max, Flow IAT Min, Fwd IAT Mean, Fwd IAT Std, Fwd IAT Min, Bwd IAT Tot, Bwd IAT Mean, Bwd IAT Std, Bwd IAT Max, Fwd Header Len, Bwd Header Len, Bwd Pkts/s, Pkt Len Min, Pkt Len Mean, Pkt Len Var, PSH Flag Cnt, ACK Flag Cnt, Down/Up Ratio, Init Fwd Win Byts, Init Bwd Win Byts, Fwd Act Data Pkt, Fwd Seg Size Min, Active Min'"
   ]
  },
  {
   "cell_type": "code",
   "execution_count": 8,
   "metadata": {},
   "outputs": [],
   "source": [
    "list_of_col = string_col.split(', ')"
   ]
  },
  {
   "cell_type": "code",
   "execution_count": 9,
   "metadata": {},
   "outputs": [
    {
     "data": {
      "text/plain": [
       "['Dst Port',\n",
       " 'Flow Duration',\n",
       " 'Tot Fwd Pkts',\n",
       " 'TotLen Fwd Pkts',\n",
       " 'Fwd Pkt Len Max',\n",
       " 'Fwd Pkt Len Min',\n",
       " 'Fwd Pkt Len Mean',\n",
       " 'Fwd Pkt Len Std',\n",
       " 'Bwd Pkt Len Max',\n",
       " 'Flow Byts/s',\n",
       " 'Flow Pkts/s',\n",
       " 'Flow IAT Mean',\n",
       " 'Flow IAT Std',\n",
       " 'Flow IAT Max',\n",
       " 'Flow IAT Min',\n",
       " 'Fwd IAT Mean',\n",
       " 'Fwd IAT Std',\n",
       " 'Fwd IAT Min',\n",
       " 'Bwd IAT Tot',\n",
       " 'Bwd IAT Mean',\n",
       " 'Bwd IAT Std',\n",
       " 'Bwd IAT Max',\n",
       " 'Fwd Header Len',\n",
       " 'Bwd Header Len',\n",
       " 'Bwd Pkts/s',\n",
       " 'Pkt Len Min',\n",
       " 'Pkt Len Mean',\n",
       " 'Pkt Len Var',\n",
       " 'PSH Flag Cnt',\n",
       " 'ACK Flag Cnt',\n",
       " 'Down/Up Ratio',\n",
       " 'Init Fwd Win Byts',\n",
       " 'Init Bwd Win Byts',\n",
       " 'Fwd Act Data Pkt',\n",
       " 'Fwd Seg Size Min',\n",
       " 'Active Min']"
      ]
     },
     "execution_count": 9,
     "metadata": {},
     "output_type": "execute_result"
    }
   ],
   "source": [
    "list_of_col"
   ]
  },
  {
   "cell_type": "code",
   "execution_count": 10,
   "metadata": {},
   "outputs": [
    {
     "data": {
      "text/plain": [
       "36"
      ]
     },
     "execution_count": 10,
     "metadata": {},
     "output_type": "execute_result"
    }
   ],
   "source": [
    "len(list_of_col)"
   ]
  },
  {
   "cell_type": "code",
   "execution_count": 11,
   "metadata": {},
   "outputs": [
    {
     "name": "stderr",
     "output_type": "stream",
     "text": [
      "/Library/Frameworks/Python.framework/Versions/3.7/lib/python3.7/site-packages/pandas/core/indexing.py:1404: FutureWarning: \n",
      "Passing list-likes to .loc or [] with any missing label will raise\n",
      "KeyError in the future, you can use .reindex() as an alternative.\n",
      "\n",
      "See the documentation here:\n",
      "https://pandas.pydata.org/pandas-docs/stable/user_guide/indexing.html#deprecate-loc-reindex-listlike\n",
      "  return self._getitem_tuple(key)\n"
     ]
    }
   ],
   "source": [
    "c_df = c_df.loc[:,list_of_col]"
   ]
  },
  {
   "cell_type": "code",
   "execution_count": 20,
   "metadata": {},
   "outputs": [
    {
     "name": "stdout",
     "output_type": "stream",
     "text": [
      "(16173281, 36)\n",
      ".\n"
     ]
    }
   ],
   "source": [
    "print(c_df.shape)\n",
    "print('.')"
   ]
  },
  {
   "cell_type": "code",
   "execution_count": 13,
   "metadata": {},
   "outputs": [],
   "source": [
    "c_df.to_csv( \"combined_csv36.csv\", index=False, encoding='utf-8-sig')"
   ]
  },
  {
   "cell_type": "code",
   "execution_count": 14,
   "metadata": {},
   "outputs": [
    {
     "name": "stdout",
     "output_type": "stream",
     "text": [
      "-------------------Dst Port-------------------\n",
      "53       3990417\n",
      "80       3459552\n",
      "443      1958609\n",
      "3389     1813245\n",
      "445       697343\n",
      "          ...   \n",
      "58271          1\n",
      "41074          1\n",
      "28744          1\n",
      "42551          1\n",
      "20835          1\n",
      "Name: Dst Port, Length: 80463, dtype: int64\n",
      "-------------------Flow Duration-------------------\n",
      "1            199157\n",
      "2            165222\n",
      "3             70362\n",
      "6             48680\n",
      "7             40673\n",
      "              ...  \n",
      "13118073          1\n",
      "4195499           1\n",
      "54372074          1\n",
      "88615535          1\n",
      "112634085         1\n",
      "Name: Flow Duration, Length: 5140790, dtype: int64\n",
      "-------------------Tot Fwd Pkts-------------------\n",
      "1         4368231\n",
      "2         4174602\n",
      "3         2168516\n",
      "5         1048601\n",
      "8          847072\n",
      "           ...   \n",
      "108192          1\n",
      "108199          1\n",
      "108235          1\n",
      "108465          1\n",
      "10080           1\n",
      "Name: Tot Fwd Pkts, Length: 5716, dtype: int64\n",
      "-------------------TotLen Fwd Pkts-------------------\n",
      "0          4859753\n",
      "935         797894\n",
      "1148        621610\n",
      "31          398120\n",
      "77          314095\n",
      "            ...   \n",
      "6526.0           1\n",
      "21388.0          1\n",
      "21394            1\n",
      "6523.0           1\n",
      "1770             1\n",
      "Name: TotLen Fwd Pkts, Length: 23644, dtype: int64\n",
      "-------------------Fwd Pkt Len Max-------------------\n",
      "0        4859753\n",
      "677       927920\n",
      "935       797637\n",
      "46        454856\n",
      "31        442820\n",
      "          ...   \n",
      "45824          1\n",
      "44392          1\n",
      "1180           1\n",
      "1003           1\n",
      "1164           1\n",
      "Name: Fwd Pkt Len Max, Length: 2828, dtype: int64\n",
      "-------------------Fwd Pkt Len Min-------------------\n",
      "0.0      11712803\n",
      "40.0       348852\n",
      "42.0       297556\n",
      "36.0       229436\n",
      "35.0       229231\n",
      "           ...   \n",
      "498.0           1\n",
      "503.0           1\n",
      "511.0           1\n",
      "513.0           1\n",
      "502.0           1\n",
      "Name: Fwd Pkt Len Min, Length: 611, dtype: int64\n",
      "-------------------Fwd Pkt Len Mean-------------------\n",
      "0.0                    4859753\n",
      "187.0                   778836\n",
      "40.0                    349300\n",
      "42.0                    298001\n",
      "6.666666667             289314\n",
      "                        ...   \n",
      "17.334448160535118           1\n",
      "19.604651162790702           1\n",
      "224.25                       1\n",
      "443.3076923077               1\n",
      "0.28124999999999994          1\n",
      "Name: Fwd Pkt Len Mean, Length: 176020, dtype: int64\n",
      "-------------------Fwd Pkt Len Std-------------------\n",
      "0.000000      8979693\n",
      "418.144712     778546\n",
      "11.547005      289318\n",
      "48.500000      198993\n",
      "228.129662     195598\n",
      "               ...   \n",
      "388.157880          1\n",
      "104.943425          1\n",
      "389.701595          1\n",
      "206.488364          1\n",
      "98.493340           1\n",
      "Name: Fwd Pkt Len Std, Length: 385305, dtype: int64\n",
      "-------------------Bwd Pkt Len Max-------------------\n",
      "0       5806589\n",
      "1173    1317168\n",
      "1460     868584\n",
      "964      289323\n",
      "488      280238\n",
      "         ...   \n",
      "1247          1\n",
      "1060          1\n",
      "686           1\n",
      "862           1\n",
      "176           1\n",
      "Name: Bwd Pkt Len Max, Length: 2320, dtype: int64\n",
      "-------------------Flow Byts/s-------------------\n",
      "0.0                  2206841\n",
      "0.0                  1605205\n",
      "0                    1154486\n",
      "Infinity               36039\n",
      "3.1E7                  16472\n",
      "                      ...   \n",
      "1767.196961763171          1\n",
      "648.1284431027078          1\n",
      "1019.7965581327            1\n",
      "697.4866009152981          1\n",
      "5025.922366196392          1\n",
      "Name: Flow Byts/s, Length: 7356265, dtype: int64\n",
      "-------------------Flow Pkts/s-------------------\n",
      "1000000.0               146971\n",
      "2000000.0                70581\n",
      "2000000.0                67775\n",
      "2000000                  50342\n",
      "666666.6667              46032\n",
      "                         ...  \n",
      "0.33634966538641636          1\n",
      "0.25858766845575143          1\n",
      "3.965566750635599            1\n",
      "0.022928332052690455         1\n",
      "0.4158735858                 1\n",
      "Name: Flow Pkts/s, Length: 6876876, dtype: int64\n",
      "-------------------Flow IAT Mean-------------------\n",
      "1.000000e+00    190190\n",
      "2.000000e+00    162272\n",
      "3.000000e+00     61376\n",
      "6.000000e+00     48661\n",
      "7.000000e+00     40846\n",
      "                 ...  \n",
      "5.464084e+05         1\n",
      "8.676288e+04         1\n",
      "2.897754e+05         1\n",
      "4.501814e+06         1\n",
      "5.994963e+05         1\n",
      "Name: Flow IAT Mean, Length: 6078973, dtype: int64\n",
      "-------------------Flow IAT Std-------------------\n",
      "0.0                   7611071\n",
      "0                      111715\n",
      "0.0                     46915\n",
      "0.7071067811865476      13236\n",
      "0.7071067812             7975\n",
      "                       ...   \n",
      "144582.3069                 1\n",
      "76317.81906138117           1\n",
      "144581.39630418518          1\n",
      "39355.10036091362           1\n",
      "4889656.02515483            1\n",
      "Name: Flow IAT Std, Length: 7405637, dtype: int64\n",
      "-------------------Flow IAT Max-------------------\n",
      "1             201946\n",
      "2             165235\n",
      "3              69462\n",
      "6              48609\n",
      "10000000       45558\n",
      "               ...  \n",
      "59108056.0         1\n",
      "86365810.0         1\n",
      "10014716           1\n",
      "54598182.0         1\n",
      "14429927.0         1\n",
      "Name: Flow IAT Max, Length: 3102178, dtype: int64\n",
      "-------------------Flow IAT Min-------------------\n",
      "1.0           1191476\n",
      "0.0            807231\n",
      "3.0            739546\n",
      "4.0            494140\n",
      "2.0            432947\n",
      "               ...   \n",
      "53586346.0          1\n",
      "87140775.0          1\n",
      "127194.0            1\n",
      "87140767.0          1\n",
      "756137.0            1\n",
      "Name: Flow IAT Min, Length: 787597, dtype: int64\n",
      "-------------------Fwd IAT Mean-------------------\n",
      "0.0                   4403141\n",
      "1.0                    124080\n",
      "0                       93366\n",
      "0.0                     34948\n",
      "85.0                    17317\n",
      "                       ...   \n",
      "88444015.0                  1\n",
      "16827.1666666667            1\n",
      "193066.4                    1\n",
      "328050.55555555556          1\n",
      "6087637.31578947            1\n",
      "Name: Fwd IAT Mean, Length: 5186562, dtype: int64\n",
      "-------------------Fwd IAT Std-------------------\n",
      "0.0                   8547880\n",
      "0                      130917\n",
      "0.0                     55338\n",
      "0.7071067811865476      11877\n",
      "0.7071067812             7290\n",
      "                       ...   \n",
      "4963846.051898384           1\n",
      "4221932.328                 1\n",
      "122815.98118445335          1\n",
      "84860.5919169787            1\n",
      "20487108.437101413          1\n",
      "Name: Fwd IAT Std, Length: 5485694, dtype: int64\n",
      "-------------------Fwd IAT Min-------------------\n",
      "0             4534592\n",
      "3              507647\n",
      "4              310525\n",
      "1              309613\n",
      "2              183808\n",
      "               ...   \n",
      "254644              1\n",
      "54776279.0          1\n",
      "87145176.0          1\n",
      "36813527            1\n",
      "4961089.0           1\n",
      "Name: Fwd IAT Min, Length: 965879, dtype: int64\n",
      "-------------------Bwd IAT Tot-------------------\n",
      "0            9074149\n",
      "0             201922\n",
      "1             147196\n",
      "117000000      13740\n",
      "111000000      12153\n",
      "              ...   \n",
      "3892292.0          1\n",
      "3892291.0          1\n",
      "3892290            1\n",
      "3892289            1\n",
      "2607877            1\n",
      "Name: Bwd IAT Tot, Length: 3568407, dtype: int64\n",
      "-------------------Bwd IAT Mean-------------------\n",
      "0.0                   9074149\n",
      "1.0                    147089\n",
      "0                      145774\n",
      "0.0                     58060\n",
      "25.0                     8225\n",
      "                       ...   \n",
      "517365.3333                 1\n",
      "2393784.206896552           1\n",
      "4702249.458333333           1\n",
      "4702247.8                   1\n",
      "194386.33333333328          1\n",
      "Name: Bwd IAT Mean, Length: 4322286, dtype: int64\n",
      "-------------------Bwd IAT Std-------------------\n",
      "0.0                   10201598\n",
      "0                       157905\n",
      "0.0                      65160\n",
      "37200000.0                1332\n",
      "20500000.0                 958\n",
      "                        ...   \n",
      "5033203.28551615             1\n",
      "5033204.541340573            1\n",
      "93814.78963184149            1\n",
      "3395781.4489999996           1\n",
      "3761594.981072435            1\n",
      "Name: Bwd IAT Std, Length: 5128635, dtype: int64\n",
      "-------------------Bwd IAT Max-------------------\n",
      "0            9074149\n",
      "0             201922\n",
      "1             147324\n",
      "10000000       33025\n",
      "10100000       17343\n",
      "              ...   \n",
      "6224350            1\n",
      "2030048.0          1\n",
      "2030049.0          1\n",
      "2030050.0          1\n",
      "1550765.0          1\n",
      "Name: Bwd IAT Max, Length: 2039165, dtype: int64\n",
      "-------------------Fwd Header Len-------------------\n",
      "8         3314452\n",
      "40        3256349\n",
      "72        1292197\n",
      "16         748655\n",
      "172        724188\n",
      "           ...   \n",
      "189612          1\n",
      "190132          1\n",
      "190992          1\n",
      "192012          1\n",
      "48204           1\n",
      "Name: Fwd Header Len, Length: 8847, dtype: int64\n",
      "-------------------Bwd Header Len-------------------\n"
     ]
    },
    {
     "name": "stdout",
     "output_type": "stream",
     "text": [
      "0        4031025\n",
      "8        3314580\n",
      "92       1369069\n",
      "20       1274409\n",
      "152      1111776\n",
      "          ...   \n",
      "66532          1\n",
      "66600          1\n",
      "66632          1\n",
      "66660          1\n",
      "35792          1\n",
      "Name: Bwd Header Len, Length: 8197, dtype: int64\n",
      "-------------------Bwd Pkts/s-------------------\n",
      "0.000000          4021694\n",
      "500000.000000      155382\n",
      "1000000.000000      68659\n",
      "333333.333300       47426\n",
      "166666.666667       42713\n",
      "                   ...   \n",
      "1.130693                1\n",
      "0.129216                1\n",
      "0.646793                1\n",
      "0.554342                1\n",
      "0.359852                1\n",
      "Name: Bwd Pkts/s, Length: 5414976, dtype: int64\n",
      "-------------------Pkt Len Min-------------------\n",
      "0      11738938\n",
      "40       348869\n",
      "42       297555\n",
      "36       229439\n",
      "35       229129\n",
      "         ...   \n",
      "266           1\n",
      "431           1\n",
      "455           1\n",
      "470           1\n",
      "240           1\n",
      "Name: Pkt Len Min, Length: 246, dtype: int64\n",
      "-------------------Pkt Len Mean-------------------\n",
      "0.000000      4854627\n",
      "123.000000     289719\n",
      "30.750000      284912\n",
      "81.125000      280206\n",
      "170.562500     153839\n",
      "               ...   \n",
      "152.152174          1\n",
      "852.012712          1\n",
      "208.593750          1\n",
      "304.517241          1\n",
      "128.728814          1\n",
      "Name: Pkt Len Mean, Length: 477096, dtype: int64\n",
      "-------------------Pkt Len Var-------------------\n",
      "0.000000         4971809\n",
      "85.333333         595033\n",
      "115523.428600     289328\n",
      "470.250000        284909\n",
      "30202.125000      280201\n",
      "                  ...   \n",
      "90292.307692           1\n",
      "321485.842782          1\n",
      "90294.588235           1\n",
      "122908.071225          1\n",
      "476486.684700          1\n",
      "Name: Pkt Len Var, Length: 684266, dtype: int64\n",
      "-------------------PSH Flag Cnt-------------------\n",
      "0               9638616\n",
      "1               6223369\n",
      "0                169940\n",
      "1                141297\n",
      "PSH Flag Cnt         59\n",
      "Name: PSH Flag Cnt, dtype: int64\n",
      "-------------------ACK Flag Cnt-------------------\n",
      "0               10606263\n",
      "1                5255722\n",
      "0                 236254\n",
      "1                  74983\n",
      "ACK Flag Cnt          59\n",
      "Name: ACK Flag Cnt, dtype: int64\n",
      "-------------------Down/Up Ratio-------------------\n",
      "0        8289472\n",
      "1        7448147\n",
      "1         180806\n",
      "0         127488\n",
      "2          89622\n",
      "          ...   \n",
      "171.0          1\n",
      "170.0          1\n",
      "167.0          1\n",
      "166.0          1\n",
      "134.0          1\n",
      "Name: Down/Up Ratio, Length: 264, dtype: int64\n",
      "-------------------Init Fwd Win Byts-------------------\n",
      " 8192     5039200\n",
      "-1        4338998\n",
      " 65535     542716\n",
      " 32738     522265\n",
      " 26883     477726\n",
      "           ...   \n",
      " 25117          1\n",
      " 25088          1\n",
      " 25080          1\n",
      " 25065          1\n",
      " 20425          1\n",
      "Name: Init Fwd Win Byts, Length: 17832, dtype: int64\n",
      "-------------------Init Bwd Win Byts-------------------\n",
      "-1        8055161\n",
      " 0        1047337\n",
      " 211       699128\n",
      " 62852     640468\n",
      " 149       361616\n",
      "           ...   \n",
      " 21667          1\n",
      " 21635          1\n",
      " 21597          1\n",
      " 21581          1\n",
      " 19923          1\n",
      "Name: Init Bwd Win Byts, Length: 17621, dtype: int64\n",
      "-------------------Fwd Act Data Pkt-------------------\n",
      "Series([], Name: Fwd Act Data Pkt, dtype: int64)\n",
      "-------------------Fwd Seg Size Min-------------------\n",
      "20                  9886150\n",
      "8                   4108366\n",
      "32                  1166821\n",
      "40                   373861\n",
      "0                    230632\n",
      "20                   159842\n",
      "8                     85929\n",
      "28                    46580\n",
      "24                    46232\n",
      "24                    38827\n",
      "32                    13113\n",
      "0                      7680\n",
      "40                     3559\n",
      "44                     2328\n",
      "28                     2085\n",
      "36                     1006\n",
      "36                      191\n",
      "Fwd Seg Size Min         59\n",
      "44                       11\n",
      "48                        8\n",
      "56                        1\n",
      "Name: Fwd Seg Size Min, dtype: int64\n",
      "-------------------Active Min-------------------\n",
      "0             14281996\n",
      "0               260620\n",
      "0.0               3249\n",
      "2                 1453\n",
      "11248              805\n",
      "                ...   \n",
      "307460               1\n",
      "10640151.0           1\n",
      "10640144.0           1\n",
      "4319084              1\n",
      "4532820              1\n",
      "Name: Active Min, Length: 447409, dtype: int64\n"
     ]
    }
   ],
   "source": [
    "for i in c_df.columns:\n",
    "    print('-------------------'+str(i)+'-------------------')\n",
    "    description = c_df.loc[:,i].value_counts()\n",
    "    print(description)\n",
    "    #print(description['count'])"
   ]
  },
  {
   "cell_type": "code",
   "execution_count": 15,
   "metadata": {},
   "outputs": [
    {
     "name": "stdout",
     "output_type": "stream",
     "text": [
      "(16173281, 1)\n"
     ]
    }
   ],
   "source": [
    "Y = pd.read_csv('./combined_csv.csv',usecols=['Label'])\n",
    "print(Y.shape)"
   ]
  },
  {
   "cell_type": "code",
   "execution_count": 16,
   "metadata": {},
   "outputs": [],
   "source": [
    "Y.to_csv( \"Y.csv\", index=False, encoding='utf-8-sig')"
   ]
  },
  {
   "cell_type": "code",
   "execution_count": 22,
   "metadata": {},
   "outputs": [
    {
     "name": "stdout",
     "output_type": "stream",
     "text": [
      "(16173281,)\n"
     ]
    }
   ],
   "source": [
    "y = Y.loc[:,'Label']\n",
    "print(y.shape)"
   ]
  },
  {
   "cell_type": "code",
   "execution_count": 24,
   "metadata": {},
   "outputs": [
    {
     "name": "stdout",
     "output_type": "stream",
     "text": [
      "  Dst Port Flow Duration Tot Fwd Pkts TotLen Fwd Pkts Fwd Pkt Len Max  \\\n",
      "0      443         94658            6             708             387   \n",
      "1      443           206            2               0               0   \n",
      "2      445        165505            3               0               0   \n",
      "3      443        102429            6             708             387   \n",
      "4      443           167            2               0               0   \n",
      "\n",
      "  Fwd Pkt Len Min Fwd Pkt Len Mean Fwd Pkt Len Std Bwd Pkt Len Max  \\\n",
      "0               0              118         159.285            1460   \n",
      "1               0                0               0               0   \n",
      "2               0                0               0               0   \n",
      "3               0              118         159.285            1460   \n",
      "4               0                0               0               0   \n",
      "\n",
      "        Flow Byts/s  ... Pkt Len Mean Pkt Len Var PSH Flag Cnt ACK Flag Cnt  \\\n",
      "0  46757.8017705846  ...      316.143      269575            1            0   \n",
      "1                 0  ...            0           0            0            1   \n",
      "2                 0  ...            0           0            1            0   \n",
      "3  43210.4189243281  ...      316.143      269575            1            0   \n",
      "4                 0  ...            0           0            0            1   \n",
      "\n",
      "  Down/Up Ratio Init Fwd Win Byts Init Bwd Win Byts Fwd Act Data Pkt  \\\n",
      "0             1              8192              7484              NaN   \n",
      "1             0               258                -1              NaN   \n",
      "2             0              8192              8192              NaN   \n",
      "3             1              8192              7484              NaN   \n",
      "4             0               258                -1              NaN   \n",
      "\n",
      "  Fwd Seg Size Min Active Min  \n",
      "0               20          0  \n",
      "1               20          0  \n",
      "2               20          0  \n",
      "3               20          0  \n",
      "4               20          0  \n",
      "\n",
      "[5 rows x 36 columns]\n"
     ]
    }
   ],
   "source": []
  },
  {
   "cell_type": "code",
   "execution_count": 25,
   "metadata": {},
   "outputs": [
    {
     "name": "stdout",
     "output_type": "stream",
     "text": [
      "Dst Port\n",
      "(15861985,)\n",
      "(15861985, 36)\n",
      "Flow Duration\n",
      "(15861985,)\n",
      "(15861985, 36)\n",
      "Tot Fwd Pkts\n",
      "(15861985,)\n",
      "(15861985, 36)\n",
      "TotLen Fwd Pkts\n",
      "(15861985,)\n",
      "(15861985, 36)\n",
      "Fwd Pkt Len Max\n",
      "(15861985,)\n",
      "(15861985, 36)\n",
      "Fwd Pkt Len Min\n",
      "(15861985,)\n",
      "(15861985, 36)\n",
      "Fwd Pkt Len Mean\n",
      "(15861985,)\n",
      "(15861985, 36)\n",
      "Fwd Pkt Len Std\n",
      "(15861985,)\n",
      "(15861985, 36)\n",
      "Bwd Pkt Len Max\n",
      "(15861985,)\n",
      "(15861985, 36)\n",
      "Flow Byts/s\n",
      "(4991201,)\n",
      "(4991201, 36)\n",
      "Flow Pkts/s\n",
      "(4991201,)\n",
      "(4991201, 36)\n",
      "Flow IAT Mean\n",
      "(4991201,)\n",
      "(4991201, 36)\n",
      "Flow IAT Std\n",
      "(4991201,)\n",
      "(4991201, 36)\n",
      "Flow IAT Max\n",
      "(4991201,)\n",
      "(4991201, 36)\n",
      "Flow IAT Min\n",
      "(4991201,)\n",
      "(4991201, 36)\n",
      "Fwd IAT Mean\n",
      "(4991201,)\n",
      "(4991201, 36)\n",
      "Fwd IAT Std\n",
      "(4991201,)\n",
      "(4991201, 36)\n",
      "Fwd IAT Min\n",
      "(4991201,)\n",
      "(4991201, 36)\n",
      "Bwd IAT Tot\n",
      "(4991201,)\n",
      "(4991201, 36)\n",
      "Bwd IAT Mean\n",
      "(4991201,)\n",
      "(4991201, 36)\n",
      "Bwd IAT Std\n",
      "(4991201,)\n",
      "(4991201, 36)\n",
      "Bwd IAT Max\n",
      "(4991201,)\n",
      "(4991201, 36)\n",
      "Fwd Header Len\n",
      "(4991201,)\n",
      "(4991201, 36)\n",
      "Bwd Header Len\n",
      "(4991201,)\n",
      "(4991201, 36)\n",
      "Bwd Pkts/s\n",
      "(4991201,)\n",
      "(4991201, 36)\n",
      "Pkt Len Min\n",
      "(4991201,)\n",
      "(4991201, 36)\n",
      "Pkt Len Mean\n",
      "(4991201,)\n",
      "(4991201, 36)\n",
      "Pkt Len Var\n",
      "(4991201,)\n",
      "(4991201, 36)\n",
      "PSH Flag Cnt\n",
      "(4991201,)\n",
      "(4991201, 36)\n",
      "ACK Flag Cnt\n",
      "(4991201,)\n",
      "(4991201, 36)\n",
      "Down/Up Ratio\n",
      "(4991201,)\n",
      "(4991201, 36)\n",
      "Init Fwd Win Byts\n",
      "(4991201,)\n",
      "(4991201, 36)\n",
      "Init Bwd Win Byts\n",
      "(4991201,)\n",
      "(4991201, 36)\n",
      "Fwd Act Data Pkt\n",
      "(4991201,)\n",
      "(4991201, 36)\n",
      "Fwd Seg Size Min\n",
      "(4991201,)\n",
      "(4991201, 36)\n",
      "Active Min\n",
      "(4991201,)\n",
      "(4991201, 36)\n"
     ]
    }
   ],
   "source": [
    "for i in c_df.columns:\n",
    "    print(i)\n",
    "    if i=='Label':\n",
    "        continue\n",
    "    tf_l = c_df[i].apply(type)!=type('abc')\n",
    "    c_df = c_df[tf_l]\n",
    "    y = y[tf_l]\n",
    "    print(y.shape)\n",
    "    print(c_df.shape)"
   ]
  },
  {
   "cell_type": "code",
   "execution_count": null,
   "metadata": {},
   "outputs": [],
   "source": []
  }
 ],
 "metadata": {
  "kernelspec": {
   "display_name": "Python 3",
   "language": "python",
   "name": "python3"
  },
  "language_info": {
   "codemirror_mode": {
    "name": "ipython",
    "version": 3
   },
   "file_extension": ".py",
   "mimetype": "text/x-python",
   "name": "python",
   "nbconvert_exporter": "python",
   "pygments_lexer": "ipython3",
   "version": "3.7.4"
  }
 },
 "nbformat": 4,
 "nbformat_minor": 2
}
